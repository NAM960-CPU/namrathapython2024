{
  "nbformat": 4,
  "nbformat_minor": 0,
  "metadata": {
    "colab": {
      "provenance": []
    },
    "kernelspec": {
      "name": "python3",
      "display_name": "Python 3"
    },
    "language_info": {
      "name": "python"
    }
  },
  "cells": [
    {
      "cell_type": "code",
      "execution_count": 1,
      "metadata": {
        "colab": {
          "base_uri": "https://localhost:8080/"
        },
        "id": "Q_gFo1xgaXUP",
        "outputId": "f4195cd5-7b93-42cb-f946-94ac612a4a51"
      },
      "outputs": [
        {
          "output_type": "stream",
          "name": "stdout",
          "text": [
            "The sum of all numbers from 1 to 100 is: 5050\n"
          ]
        }
      ],
      "source": [
        "# Initialize a variable to store the sum\n",
        "total_sum = 0\n",
        "\n",
        "# Use a for loop to iterate over the numbers from 1 to 100\n",
        "for num in range(1, 101):\n",
        "    total_sum += num  # Add the current number to the total sum\n",
        "\n",
        "# Print the total sum\n",
        "print(\"The sum of all numbers from 1 to 100 is:\", total_sum)\n"
      ]
    },
    {
      "cell_type": "code",
      "source": [
        "# Outer loop for the rows (multipliers)\n",
        "for i in range(1, 6):\n",
        "    # Inner loop for the columns (multiplicands)\n",
        "    for j in range(1, 6):\n",
        "        # Print the product, followed by a tab space for alignment\n",
        "        print(f\"{i * j}\", end=\"\\t\")\n",
        "    # After each row, print a new line\n",
        "    print()\n",
        "\n"
      ],
      "metadata": {
        "colab": {
          "base_uri": "https://localhost:8080/"
        },
        "id": "NDKR3chnbOGV",
        "outputId": "c4e0d0fb-81cf-4c3c-969a-e564800a136d"
      },
      "execution_count": 3,
      "outputs": [
        {
          "output_type": "stream",
          "name": "stdout",
          "text": [
            "1\t2\t3\t4\t5\t\n",
            "2\t4\t6\t8\t10\t\n",
            "3\t6\t9\t12\t15\t\n",
            "4\t8\t12\t16\t20\t\n",
            "5\t10\t15\t20\t25\t\n"
          ]
        }
      ]
    },
    {
      "cell_type": "code",
      "source": [
        "# Number of rows\n",
        "rows = 5\n",
        "\n",
        "# Loop through each row\n",
        "for i in range(1, rows + 1):\n",
        "    # Print stars corresponding to the current row number\n",
        "    print('*' * i)\n"
      ],
      "metadata": {
        "colab": {
          "base_uri": "https://localhost:8080/"
        },
        "id": "AvaCJTKqcUut",
        "outputId": "4b3204fd-fead-482b-b345-209ecbcfb633"
      },
      "execution_count": 4,
      "outputs": [
        {
          "output_type": "stream",
          "name": "stdout",
          "text": [
            "*\n",
            "**\n",
            "***\n",
            "****\n",
            "*****\n"
          ]
        }
      ]
    },
    {
      "cell_type": "code",
      "source": [
        "# Function to check if a string is a palindrome\n",
        "def is_palindrome(s):\n",
        "    # Remove spaces and convert to lowercase for consistent comparison\n",
        "    cleaned_string = ''.join(s.split()).lower()\n",
        "\n",
        "    # Compare the cleaned string with its reverse\n",
        "    return cleaned_string == cleaned_string[::-1]\n",
        "\n",
        "# Main code\n",
        "if __name__ == \"__main__\":\n",
        "    # Get input from the user\n",
        "    user_input = input(\"Enter a word or phrase to check if it's a palindrome: \")\n",
        "\n",
        "    # Check if the input is a palindrome and display the result\n",
        "    if is_palindrome(user_input):\n",
        "        print(f\"'{user_input}' is a palindrome!\")\n",
        "    else:\n",
        "        print(f\"'{user_input}' is not a palindrome.\")\n"
      ],
      "metadata": {
        "colab": {
          "base_uri": "https://localhost:8080/"
        },
        "id": "MO6goDnrcW74",
        "outputId": "e05a90c2-5e97-499b-fd27-fc117e4032b5"
      },
      "execution_count": 6,
      "outputs": [
        {
          "output_type": "stream",
          "name": "stdout",
          "text": [
            "Enter a word or phrase to check if it's a palindrome: 4\n",
            "'4' is a palindrome!\n"
          ]
        }
      ]
    },
    {
      "cell_type": "code",
      "source": [
        "# Nested loop example to print a 2D grid\n",
        "rows = 3\n",
        "cols = 4\n",
        "\n",
        "for i in range(rows):  # Outer loop controls rows\n",
        "    for j in range(cols):  # Inner loop controls columns\n",
        "        print(f\"({i}, {j})\", end=\" \")\n",
        "    print()  # Move to the next row after each iteration of the inner loop\n"
      ],
      "metadata": {
        "colab": {
          "base_uri": "https://localhost:8080/"
        },
        "id": "CeOE8iB5daHY",
        "outputId": "4be3a679-2b03-480b-9339-8d4cb6701ccd"
      },
      "execution_count": 8,
      "outputs": [
        {
          "output_type": "stream",
          "name": "stdout",
          "text": [
            "(0, 0) (0, 1) (0, 2) (0, 3) \n",
            "(1, 0) (1, 1) (1, 2) (1, 3) \n",
            "(2, 0) (2, 1) (2, 2) (2, 3) \n"
          ]
        }
      ]
    }
  ]
}