{
  "nbformat": 4,
  "nbformat_minor": 0,
  "metadata": {
    "colab": {
      "provenance": []
    },
    "kernelspec": {
      "name": "python3",
      "display_name": "Python 3"
    },
    "language_info": {
      "name": "python"
    }
  },
  "cells": [
    {
      "cell_type": "code",
      "execution_count": 6,
      "metadata": {
        "id": "dlyvwtRW4hop",
        "colab": {
          "base_uri": "https://localhost:8080/"
        },
        "outputId": "be2d4612-68ed-4feb-ee1c-f2d9e71270fa"
      },
      "outputs": [
        {
          "output_type": "stream",
          "name": "stdout",
          "text": [
            "10 3.14 rajuall are happyall are not happy\n"
          ]
        }
      ],
      "source": [
        "X=10 #INTEGER\n",
        "Y=3.14# FLOAT\n",
        "NAME=\"JOHN\" #STRING\n",
        "a=10\n",
        "b=3.14\n",
        "name = 'raju'\n",
        "print (a,b,name + \"all are happy\" + \"all are not happy\")\n",
        "\n",
        "\n"
      ]
    },
    {
      "cell_type": "code",
      "source": [
        "a= 10\n",
        "b= 3.14\n",
        "name= 'raju'\n",
        "print(a,b,name)\n",
        "print(name + \"good\")"
      ],
      "metadata": {
        "colab": {
          "base_uri": "https://localhost:8080/"
        },
        "id": "fQs8of6q6kSl",
        "outputId": "455be242-6cf0-438b-a936-f494f1625806"
      },
      "execution_count": 7,
      "outputs": [
        {
          "output_type": "stream",
          "name": "stdout",
          "text": [
            "10 3.14 raju\n",
            "rajugood\n"
          ]
        }
      ]
    },
    {
      "cell_type": "markdown",
      "source": [
        "user input"
      ],
      "metadata": {
        "id": "UgYGxoww7LPU"
      }
    },
    {
      "cell_type": "code",
      "source": [
        "radius = float(input(\"enter the radius:\"))\n",
        "pi=3.14\n",
        "area=pi* radius**2\n",
        "print(\"area of circle is :\",area)"
      ],
      "metadata": {
        "colab": {
          "base_uri": "https://localhost:8080/"
        },
        "id": "dUKA1DPI7pUl",
        "outputId": "22146cce-279a-40b0-a877-72003eac6dd0"
      },
      "execution_count": 18,
      "outputs": [
        {
          "output_type": "stream",
          "name": "stdout",
          "text": [
            "enter the radius:30\n",
            "area of circle is : 2826.0\n"
          ]
        }
      ]
    }
  ]
}