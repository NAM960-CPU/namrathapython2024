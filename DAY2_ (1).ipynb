{
  "nbformat": 4,
  "nbformat_minor": 0,
  "metadata": {
    "colab": {
      "provenance": []
    },
    "kernelspec": {
      "name": "python3",
      "display_name": "Python 3"
    },
    "language_info": {
      "name": "python"
    }
  },
  "cells": [
    {
      "cell_type": "code",
      "execution_count": null,
      "metadata": {
        "id": "yBvpYMiv8EKw"
      },
      "outputs": [],
      "source": []
    },
    {
      "cell_type": "markdown",
      "source": [
        "while loops"
      ],
      "metadata": {
        "id": "_sBOcHhJ8JHC"
      }
    },
    {
      "cell_type": "code",
      "source": [
        "count = 0\n",
        "while count < 5:\n",
        "  print(\"count:\", count)\n",
        "  count += 1"
      ],
      "metadata": {
        "colab": {
          "base_uri": "https://localhost:8080/"
        },
        "id": "_GIcEa2G8MHp",
        "outputId": "2b6eb38d-09b9-49a8-f0da-fc1692fc88d0"
      },
      "execution_count": 1,
      "outputs": [
        {
          "output_type": "stream",
          "name": "stdout",
          "text": [
            "count: 0\n",
            "count: 1\n",
            "count: 2\n",
            "count: 3\n",
            "count: 4\n"
          ]
        }
      ]
    },
    {
      "cell_type": "markdown",
      "source": [
        "CONTORL FLOW TOOLS"
      ],
      "metadata": {
        "id": "phdqFfAv8nFl"
      }
    },
    {
      "cell_type": "code",
      "source": [
        "for i in range(10):\n",
        "  if i == 5:\n",
        "    break\n",
        "  print (i)"
      ],
      "metadata": {
        "colab": {
          "base_uri": "https://localhost:8080/"
        },
        "id": "3v7uxQim9F6a",
        "outputId": "ca40dd3d-cb08-440c-c204-489a2639062b"
      },
      "execution_count": 8,
      "outputs": [
        {
          "output_type": "stream",
          "name": "stdout",
          "text": [
            "0\n",
            "1\n",
            "2\n",
            "3\n",
            "4\n"
          ]
        }
      ]
    },
    {
      "cell_type": "markdown",
      "source": [
        "PASS"
      ],
      "metadata": {
        "id": "6xzwFBzL-IDL"
      }
    },
    {
      "cell_type": "code",
      "source": [
        "for i in range(10):\n",
        "  if i == 5:\n",
        "    pass\n",
        "  print (i)"
      ],
      "metadata": {
        "colab": {
          "base_uri": "https://localhost:8080/"
        },
        "id": "5lPfL-JD-r-O",
        "outputId": "02f8b79a-b1cf-4755-8fc6-19ce9a25eed9"
      },
      "execution_count": 9,
      "outputs": [
        {
          "output_type": "stream",
          "name": "stdout",
          "text": [
            "0\n",
            "1\n",
            "2\n",
            "3\n",
            "4\n",
            "5\n",
            "6\n",
            "7\n",
            "8\n",
            "9\n"
          ]
        }
      ]
    },
    {
      "cell_type": "markdown",
      "source": [
        "HANDS ON PRACTICE"
      ],
      "metadata": {
        "id": "18Qtq_Dh_M_C"
      }
    },
    {
      "cell_type": "code",
      "source": [
        "number = int(input(\"enter a number:\"))\n",
        "if number %2 ==0:\n",
        "  print(\"the number is even.\")\n",
        "else:\n",
        "  print(\"the number is odd\")"
      ],
      "metadata": {
        "colab": {
          "base_uri": "https://localhost:8080/"
        },
        "id": "4exxe-PtCNpF",
        "outputId": "8d06e052-795b-440e-8184-997dad9b1cd1"
      },
      "execution_count": 10,
      "outputs": [
        {
          "output_type": "stream",
          "name": "stdout",
          "text": [
            "enter a number:6\n",
            "the number is even.\n"
          ]
        }
      ]
    },
    {
      "cell_type": "markdown",
      "source": [
        "SUM  OF NUMBER IN A GIVEN RANGE"
      ],
      "metadata": {
        "id": "VH3wqpl7C0ne"
      }
    },
    {
      "cell_type": "code",
      "source": [
        "start =int(input(\"enter the start of the range:\"))\n",
        "end =int(input(\"enter the end of the range: \"))\n",
        "sum=0\n",
        "for i in range(start, end + 1):\n",
        "  sum += i\n",
        "print(\"the sum is:\", sum)"
      ],
      "metadata": {
        "colab": {
          "base_uri": "https://localhost:8080/"
        },
        "id": "C2gavnS4C9kC",
        "outputId": "870d6420-4d0e-484c-8758-ee3f12237b1e"
      },
      "execution_count": 11,
      "outputs": [
        {
          "output_type": "stream",
          "name": "stdout",
          "text": [
            "enter the start of the range:5\n",
            "enter the end of the range: 10\n",
            "the sum is: 45\n"
          ]
        }
      ]
    },
    {
      "cell_type": "markdown",
      "source": [
        "factorial numbers"
      ],
      "metadata": {
        "id": "NB5mUY1KE9Uy"
      }
    },
    {
      "cell_type": "code",
      "source": [
        "number =int(input(\"enter a number: \"))\n",
        "factorial =1\n",
        "for i in range(1,number + 1):\n",
        "  factorial*=i\n",
        "print(\"the factorial is:\", factorial)"
      ],
      "metadata": {
        "colab": {
          "base_uri": "https://localhost:8080/"
        },
        "id": "Mb_J9B2vFCzR",
        "outputId": "909d2cd8-2fc9-405c-8209-9b54cbe17760"
      },
      "execution_count": 12,
      "outputs": [
        {
          "output_type": "stream",
          "name": "stdout",
          "text": [
            "enter a number: 5\n",
            "the factorial is: 120\n"
          ]
        }
      ]
    },
    {
      "cell_type": "markdown",
      "source": [
        "FIBONACCI SEQUENCE"
      ],
      "metadata": {
        "id": "0vGtjqbXHOZX"
      }
    },
    {
      "cell_type": "code",
      "source": [
        "n = int(input(\"enter the number of terms:\"))\n",
        "a, b =0,1\n",
        "for i in range(n):\n",
        "  print(a, end=\" \")\n",
        "\n",
        "  a,b = b, a + b\n"
      ],
      "metadata": {
        "colab": {
          "base_uri": "https://localhost:8080/"
        },
        "id": "SH03ebAqH4bu",
        "outputId": "4d6a98b8-4e0d-4f1d-b0dd-ee3476701775"
      },
      "execution_count": 25,
      "outputs": [
        {
          "output_type": "stream",
          "name": "stdout",
          "text": [
            "enter the number of terms:10\n",
            "0 1 1 2 3 5 8 13 21 34 "
          ]
        }
      ]
    },
    {
      "cell_type": "markdown",
      "source": [
        "SIMPLE CALCULATOR USING IF-ELSE"
      ],
      "metadata": {
        "id": "78n1t_xzPnqt"
      }
    },
    {
      "cell_type": "code",
      "source": [
        "num1 = float(input(\"enter first number: \"))\n",
        "num2 = float(input(\"enter second number: \"))\n",
        "operation = (input(\"enter operation(+, -, *, /:\"))\n",
        "if operation == '+':\n",
        "  print(\"result:\", num1 + num2)\n",
        "elif operation == '-':\n",
        "  print(\"result:\", num1 - num2)\n",
        "elif operation == '*':\n",
        "  print(\"result:\", num1 * num2)\n",
        "elif operation == '//':\n",
        "  print(\"result:'\", num1 // num2)\n",
        "elif operation == '%':\n",
        "  print(\"result:\", num1 % num2)\n",
        "elif operation == '**':\n",
        "  print(\"result:\", num1 ** num2)\n",
        "else:\n",
        "  print(\"INVALID operation\")"
      ],
      "metadata": {
        "colab": {
          "base_uri": "https://localhost:8080/"
        },
        "id": "n23j2DR3Ung0",
        "outputId": "92cddf91-eacd-4e05-f010-adfe1d998963"
      },
      "execution_count": 33,
      "outputs": [
        {
          "output_type": "stream",
          "name": "stdout",
          "text": [
            "enter first number: 6\n",
            "enter second number: 3\n",
            "enter operation(+, -, *, /:*\n",
            "result: 18.0\n"
          ]
        }
      ]
    },
    {
      "cell_type": "markdown",
      "source": [
        "CHECK LEAP YEAR"
      ],
      "metadata": {
        "id": "lmpxSFTjdyQF"
      }
    },
    {
      "cell_type": "code",
      "source": [
        "year =int(input(\"enter a year: \"))\n",
        "if(year % 4 == 0 and year % 100!=0) or (year % 400 ==0):\n",
        "  print(\"leap year\")\n",
        "else:\n",
        "  print(\"not a leap year\")"
      ],
      "metadata": {
        "colab": {
          "base_uri": "https://localhost:8080/"
        },
        "id": "JmvYg1QSd2rG",
        "outputId": "76746afe-6a82-454c-c54e-752dc8d0cd4c"
      },
      "execution_count": 37,
      "outputs": [
        {
          "output_type": "stream",
          "name": "stdout",
          "text": [
            "enter a year: 2022\n",
            "not a leap year\n"
          ]
        }
      ]
    },
    {
      "cell_type": "markdown",
      "source": [
        "FIND THE LARGEST OF THREE NUMBERS\n"
      ],
      "metadata": {
        "id": "RY1bCY5AgZeY"
      }
    },
    {
      "cell_type": "code",
      "source": [
        "num1 = float(input(\"enter first number: \"))\n",
        "num2 = float(input(\"enter second number: \"))\n",
        "num3 = float(input(\"enter third number: \"))\n",
        "if num1>=num2 and num1 >=num3:\n",
        "  print(\"largest number is:\",num1)\n",
        "elif num2>=num3:\n",
        "  print(\"largest number is:\",num2)\n",
        "else:\n",
        "  print(\"largest number is:\",num3)\n"
      ],
      "metadata": {
        "colab": {
          "base_uri": "https://localhost:8080/"
        },
        "id": "9gYWD7eSgkTI",
        "outputId": "757264ad-08cf-45da-c1e4-bc72437afe72"
      },
      "execution_count": 36,
      "outputs": [
        {
          "output_type": "stream",
          "name": "stdout",
          "text": [
            "enter first number: 7\n",
            "enter second number: 6\n",
            "enter third number: 18\n",
            "largest number is: 18.0\n"
          ]
        }
      ]
    },
    {
      "cell_type": "code",
      "source": [
        "a = int(input(\" enter a number\"))\n",
        "if a>0:\n",
        "  print(\"positive\")\n",
        "elif a<0:\n",
        "  print(\"negative\")\n",
        "else:\n",
        "  print(\"zero\")"
      ],
      "metadata": {
        "colab": {
          "base_uri": "https://localhost:8080/"
        },
        "id": "87M19uBRitAz",
        "outputId": "2475873b-9c40-4082-9525-01b6186c7821"
      },
      "execution_count": 38,
      "outputs": [
        {
          "output_type": "stream",
          "name": "stdout",
          "text": [
            " enter a number5\n",
            "positive\n"
          ]
        }
      ]
    },
    {
      "cell_type": "markdown",
      "source": [
        "SUM OF ALL EVEN NUMBER IN A RANGE"
      ],
      "metadata": {
        "id": "F2ckcJwQjql0"
      }
    },
    {
      "cell_type": "code",
      "source": [
        "start = int(input(\"enter start of range:\"))\n",
        "end = int(input(\" enter end of range\"))\n",
        "even_sum=0\n",
        "for num in range(start, end + 1):\n",
        "  if num % 2 ==0:\n",
        "     even_sum +=num\n",
        "print(\"sum of even numbers:\",even_sum)"
      ],
      "metadata": {
        "colab": {
          "base_uri": "https://localhost:8080/"
        },
        "id": "BCv6kxxXkFBz",
        "outputId": "c71cd496-6a16-425d-f62e-1c0823a1fe4f"
      },
      "execution_count": 40,
      "outputs": [
        {
          "output_type": "stream",
          "name": "stdout",
          "text": [
            "enter start of range:5\n",
            " enter end of range7\n",
            "sum of even numbers: 6\n"
          ]
        }
      ]
    }
  ]
}