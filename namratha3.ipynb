{
  "nbformat": 4,
  "nbformat_minor": 0,
  "metadata": {
    "colab": {
      "provenance": []
    },
    "kernelspec": {
      "name": "python3",
      "display_name": "Python 3"
    },
    "language_info": {
      "name": "python"
    }
  },
  "cells": [
    {
      "cell_type": "markdown",
      "source": [
        "TEMPARATURE CONVERTER"
      ],
      "metadata": {
        "id": "pYbBXKXMAaTc"
      }
    },
    {
      "cell_type": "code",
      "source": [
        "celsius=float(input('enter temparature in celsius:'))\n",
        "fahrenheit=(celsius*9/5)+32\n",
        "print(fahrenheit)"
      ],
      "metadata": {
        "colab": {
          "base_uri": "https://localhost:8080/"
        },
        "id": "55-GD-AQMnC3",
        "outputId": "0b642cd5-ac9d-4283-b8e4-f8da9604b1a5"
      },
      "execution_count": 1,
      "outputs": [
        {
          "output_type": "stream",
          "name": "stdout",
          "text": [
            "enter temparature in celsius:32\n",
            "89.6\n"
          ]
        }
      ]
    },
    {
      "cell_type": "markdown",
      "source": [
        "SIMPLE INTEREST"
      ],
      "metadata": {
        "id": "wx37KDk6NYJh"
      }
    },
    {
      "cell_type": "code",
      "source": [
        "principle=float(input('enter principle amount:'))\n",
        "rate=float(input('enter rate: '))\n",
        "time=float(input('enter time: '))\n",
        "si=(principle*rate*time/100)\n",
        "print(si)"
      ],
      "metadata": {
        "colab": {
          "base_uri": "https://localhost:8080/"
        },
        "id": "Q7JQPmx1NdBY",
        "outputId": "277d7b85-830d-4276-f058-3e3c42eaf1dc"
      },
      "execution_count": 2,
      "outputs": [
        {
          "output_type": "stream",
          "name": "stdout",
          "text": [
            "enter principle amount:4000\n",
            "enter rate: 5\n",
            "enter time: 6\n",
            "1200.0\n"
          ]
        }
      ]
    },
    {
      "cell_type": "markdown",
      "source": [
        "AREA AND PERIMETER OF A RECTANGLE"
      ],
      "metadata": {
        "id": "Siagih2NObRp"
      }
    },
    {
      "cell_type": "code",
      "source": [
        "length=float(input('enter length:'))\n",
        "width=float(input('enter width: '))\n",
        "area=length*width\n",
        "perimeter=2*(length+width)\n",
        "print(area)\n",
        "print(perimeter)\n"
      ],
      "metadata": {
        "colab": {
          "base_uri": "https://localhost:8080/"
        },
        "id": "gr4WdyMzOjtR",
        "outputId": "7121a532-36b2-4bda-edf1-f671902f2770"
      },
      "execution_count": 3,
      "outputs": [
        {
          "output_type": "stream",
          "name": "stdout",
          "text": [
            "enter length:46\n",
            "enter width: 42\n",
            "1932.0\n",
            "176.0\n"
          ]
        }
      ]
    },
    {
      "cell_type": "markdown",
      "source": [
        "MINUTES TO HOURS AND MINUTES"
      ],
      "metadata": {
        "id": "pNJsAvyZPt9W"
      }
    },
    {
      "cell_type": "code",
      "source": [
        "minutes=int(input('enter minutes: '))\n",
        "hours=minutes//60\n",
        "print(hours)\n",
        "hours=int(input('enter hours: '))\n",
        "minutes=hours*60\n",
        "print(minutes)"
      ],
      "metadata": {
        "colab": {
          "base_uri": "https://localhost:8080/"
        },
        "id": "1g418-hIP9KG",
        "outputId": "c3d8a507-3478-407b-f700-28da636dddff"
      },
      "execution_count": 4,
      "outputs": [
        {
          "output_type": "stream",
          "name": "stdout",
          "text": [
            "enter minutes: 45\n",
            "0\n",
            "enter hours: 8\n",
            "480\n"
          ]
        }
      ]
    },
    {
      "cell_type": "markdown",
      "source": [
        "                                                    OR"
      ],
      "metadata": {
        "id": "wNml7HIlQ1Oj"
      }
    },
    {
      "cell_type": "code",
      "source": [
        "minutes=int(input('enter minutes: '))\n",
        "hours=minutes//60\n",
        "remaining_minutes=minutes%60\n",
        "print(f\"time: {hours} hours and {remaining_minutes}minutes\")"
      ],
      "metadata": {
        "colab": {
          "base_uri": "https://localhost:8080/"
        },
        "id": "0SsTA_1wQ4Qg",
        "outputId": "4c5f0a40-c2e0-4403-a721-c0baeaff3632"
      },
      "execution_count": 5,
      "outputs": [
        {
          "output_type": "stream",
          "name": "stdout",
          "text": [
            "enter minutes: 85\n",
            "time: 1 hours and 25minutes\n"
          ]
        }
      ]
    }
  ]
}