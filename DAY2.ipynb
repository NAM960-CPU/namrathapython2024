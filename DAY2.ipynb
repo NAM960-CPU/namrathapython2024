{
  "nbformat": 4,
  "nbformat_minor": 0,
  "metadata": {
    "colab": {
      "provenance": []
    },
    "kernelspec": {
      "name": "python3",
      "display_name": "Python 3"
    },
    "language_info": {
      "name": "python"
    }
  },
  "cells": [
    {
      "cell_type": "code",
      "execution_count": null,
      "metadata": {
        "id": "UyMhjwDt1SJC"
      },
      "outputs": [],
      "source": []
    },
    {
      "cell_type": "markdown",
      "source": [
        "CONTROL FLOW AND LOOPS"
      ],
      "metadata": {
        "id": "t--jMQbt1TEE"
      }
    },
    {
      "cell_type": "code",
      "source": [
        "age = 18\n",
        "if age >=18:\n",
        "  print(\"you are eligible to vote.\")"
      ],
      "metadata": {
        "colab": {
          "base_uri": "https://localhost:8080/"
        },
        "id": "EeG75MEe1b1I",
        "outputId": "cb6aa83e-8730-4fbd-aa59-186383874e53"
      },
      "execution_count": 2,
      "outputs": [
        {
          "output_type": "stream",
          "name": "stdout",
          "text": [
            "you are eligible to vote.\n"
          ]
        }
      ]
    },
    {
      "cell_type": "markdown",
      "source": [
        "if else statement"
      ],
      "metadata": {
        "id": "yhk4RHtI2oBk"
      }
    },
    {
      "cell_type": "code",
      "source": [
        "num = int(input(\"enter a number: \"))\n",
        "if num%2==0:\n",
        "  print(\"even number\")\n",
        "else:\n",
        " print(\"odd number\")"
      ],
      "metadata": {
        "colab": {
          "base_uri": "https://localhost:8080/"
        },
        "id": "CYSvUn_32qyR",
        "outputId": "a57f4ce9-761c-41ed-8d86-77b499796318"
      },
      "execution_count": 8,
      "outputs": [
        {
          "output_type": "stream",
          "name": "stdout",
          "text": [
            "enter a number: 4\n",
            "even number\n"
          ]
        }
      ]
    },
    {
      "cell_type": "markdown",
      "source": [
        "if elif else statement"
      ],
      "metadata": {
        "id": "2poKKUUt3y0R"
      }
    },
    {
      "cell_type": "code",
      "source": [
        "marks = int(input(\"enter your marks:\"))\n",
        "if marks >=90:\n",
        "  print(\"grade: A\")\n",
        "elif marks >=75:\n",
        "  print(\"grade :B\")\n",
        "elif marks >=50:\n",
        "  print(\"grade :c\")\n",
        "else:\n",
        "  print(\"grade :f\")\n"
      ],
      "metadata": {
        "colab": {
          "base_uri": "https://localhost:8080/"
        },
        "id": "AYQ8NUjz4SEV",
        "outputId": "ca8c80f8-7e33-47be-df96-1faa43d5c846"
      },
      "execution_count": 10,
      "outputs": [
        {
          "output_type": "stream",
          "name": "stdout",
          "text": [
            "enter your marks:50\n",
            "grade :c\n"
          ]
        }
      ]
    },
    {
      "cell_type": "markdown",
      "source": [
        "LOOPS AND LOOPS"
      ],
      "metadata": {
        "id": "DxK3yP5P5Zkh"
      }
    },
    {
      "cell_type": "code",
      "source": [
        "for i in range(5):\n",
        "  print(\"Iteration:\", i)"
      ],
      "metadata": {
        "colab": {
          "base_uri": "https://localhost:8080/"
        },
        "id": "_W8yD7mE5sSm",
        "outputId": "1209a917-28d6-4f9c-927a-11dce2540ea2"
      },
      "execution_count": 11,
      "outputs": [
        {
          "output_type": "stream",
          "name": "stdout",
          "text": [
            "Iteration: 0\n",
            "Iteration: 1\n",
            "Iteration: 2\n",
            "Iteration: 3\n",
            "Iteration: 4\n"
          ]
        }
      ]
    }
  ]
}