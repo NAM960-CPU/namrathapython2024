{
  "nbformat": 4,
  "nbformat_minor": 0,
  "metadata": {
    "colab": {
      "provenance": []
    },
    "kernelspec": {
      "name": "python3",
      "display_name": "Python 3"
    },
    "language_info": {
      "name": "python"
    }
  },
  "cells": [
    {
      "cell_type": "code",
      "execution_count": null,
      "metadata": {
        "id": "E7MMJMwZJWpB"
      },
      "outputs": [],
      "source": []
    },
    {
      "cell_type": "markdown",
      "source": [
        "DATA STRUCTURE"
      ],
      "metadata": {
        "id": "oHajzBQqJi-N"
      }
    },
    {
      "cell_type": "markdown",
      "source": [
        "LISTS"
      ],
      "metadata": {
        "id": "LNWvXcO_Jmi-"
      }
    },
    {
      "cell_type": "code",
      "source": [
        "a = [1,2,3,4,5,6,7]\n",
        "print(a)"
      ],
      "metadata": {
        "colab": {
          "base_uri": "https://localhost:8080/"
        },
        "id": "kaXspCLHJqfd",
        "outputId": "3b7c0050-3ff1-4bf4-f4db-30cafebad1cf"
      },
      "execution_count": 2,
      "outputs": [
        {
          "output_type": "stream",
          "name": "stdout",
          "text": [
            "[1, 2, 3, 4, 5, 6, 7]\n"
          ]
        }
      ]
    },
    {
      "cell_type": "code",
      "source": [
        "b = [1,2,3,'raju']\n",
        "print(b)"
      ],
      "metadata": {
        "colab": {
          "base_uri": "https://localhost:8080/"
        },
        "id": "xXqNsXqWMmaC",
        "outputId": "c0e27b58-0e59-4506-f0b8-9dc4a9f091d7"
      },
      "execution_count": 4,
      "outputs": [
        {
          "output_type": "stream",
          "name": "stdout",
          "text": [
            "[1, 2, 3, 'raju']\n"
          ]
        }
      ]
    },
    {
      "cell_type": "markdown",
      "source": [
        "LIST OPERATION"
      ],
      "metadata": {
        "id": "Gm3n4EZiZtd0"
      }
    },
    {
      "cell_type": "code",
      "source": [
        "print(a[0])#output: 1\n",
        "print(b[-1])#output:5"
      ],
      "metadata": {
        "colab": {
          "base_uri": "https://localhost:8080/"
        },
        "id": "SHOnqi0mZxYX",
        "outputId": "45e2d8b9-bf06-4c37-815e-a6332950eebb"
      },
      "execution_count": 18,
      "outputs": [
        {
          "output_type": "stream",
          "name": "stdout",
          "text": [
            "10\n",
            "raju\n"
          ]
        }
      ]
    },
    {
      "cell_type": "markdown",
      "source": [
        "MODIFYING ITEMS"
      ],
      "metadata": {
        "id": "cAoElrxEaP1I"
      }
    },
    {
      "cell_type": "code",
      "source": [
        "a[0] = 10\n",
        "print(a) # output:[10,2,3,4,5]"
      ],
      "metadata": {
        "colab": {
          "base_uri": "https://localhost:8080/"
        },
        "id": "gsIuW8BNaWps",
        "outputId": "7962ff93-f914-49f3-bb41-4b2a29acc5ad"
      },
      "execution_count": 17,
      "outputs": [
        {
          "output_type": "stream",
          "name": "stdout",
          "text": [
            "[10, 2, 3, 4, 5, 6, 7]\n"
          ]
        }
      ]
    },
    {
      "cell_type": "markdown",
      "source": [
        "ADDING ITEMS"
      ],
      "metadata": {
        "id": "Ph05xFpUbcrE"
      }
    },
    {
      "cell_type": "code",
      "source": [
        "a.append(6)\n",
        "a"
      ],
      "metadata": {
        "colab": {
          "base_uri": "https://localhost:8080/"
        },
        "id": "Ho1IRe2abhbb",
        "outputId": "416a6289-3bda-4b0c-c0a2-e384a729cd37"
      },
      "execution_count": 21,
      "outputs": [
        {
          "output_type": "execute_result",
          "data": {
            "text/plain": [
              "[10, 2, 3, 4, 5, 6, 7, 6, 6]"
            ]
          },
          "metadata": {},
          "execution_count": 21
        }
      ]
    },
    {
      "cell_type": "markdown",
      "source": [
        "INSERT()"
      ],
      "metadata": {
        "id": "EUxCiEW_b4XI"
      }
    },
    {
      "cell_type": "code",
      "source": [
        "a.insert(1,15)\n",
        "a"
      ],
      "metadata": {
        "colab": {
          "base_uri": "https://localhost:8080/"
        },
        "id": "TlQRnNmNcAYM",
        "outputId": "0458a731-f327-40ca-b353-ef00f1f94b0e"
      },
      "execution_count": 22,
      "outputs": [
        {
          "output_type": "execute_result",
          "data": {
            "text/plain": [
              "[10, 15, 2, 3, 4, 5, 6, 7, 6, 6]"
            ]
          },
          "metadata": {},
          "execution_count": 22
        }
      ]
    },
    {
      "cell_type": "markdown",
      "source": [
        "REMOVING ITEM"
      ],
      "metadata": {
        "id": "chz1CKilcIvk"
      }
    },
    {
      "cell_type": "markdown",
      "source": [
        "REMOVE()"
      ],
      "metadata": {
        "id": "4FVqqJO7cMyo"
      }
    },
    {
      "cell_type": "code",
      "source": [
        "b.remove(2)\n",
        "b"
      ],
      "metadata": {
        "colab": {
          "base_uri": "https://localhost:8080/"
        },
        "id": "jCXk8imEcQ7U",
        "outputId": "9215e594-caa0-4c51-ed35-279f16c10b7a"
      },
      "execution_count": 24,
      "outputs": [
        {
          "output_type": "execute_result",
          "data": {
            "text/plain": [
              "[1, 3, 'raju']"
            ]
          },
          "metadata": {},
          "execution_count": 24
        }
      ]
    },
    {
      "cell_type": "markdown",
      "source": [
        "POP()"
      ],
      "metadata": {
        "id": "t5Nf5VR2chZO"
      }
    },
    {
      "cell_type": "code",
      "source": [
        "a.pop(2)\n",
        "a"
      ],
      "metadata": {
        "colab": {
          "base_uri": "https://localhost:8080/"
        },
        "id": "OKpg3ROscv-W",
        "outputId": "bf9de464-1e0b-4a03-e7e6-0cc0d20d2351"
      },
      "execution_count": 26,
      "outputs": [
        {
          "output_type": "execute_result",
          "data": {
            "text/plain": [
              "[10, 15, 3, 4, 5, 6, 7, 6, 6]"
            ]
          },
          "metadata": {},
          "execution_count": 26
        }
      ]
    },
    {
      "cell_type": "markdown",
      "source": [
        "ADDING ITEMS"
      ],
      "metadata": {
        "id": "kz-AGzExd7Qm"
      }
    },
    {
      "cell_type": "code",
      "source": [
        "a=[1,2,3,4,5]\n",
        "a.append(6)\n",
        "print(a)\n",
        "a=[1,2,3,4,5]\n",
        "a.insert(1,15)\n",
        "print(a)\n",
        "a = [1,2,3,4,5]\n",
        "a.remove(2)\n",
        "print(a)"
      ],
      "metadata": {
        "colab": {
          "base_uri": "https://localhost:8080/"
        },
        "id": "BFYmI_JEeF_u",
        "outputId": "dc015fb2-c966-4cad-d054-041ec4caf8c4"
      },
      "execution_count": 37,
      "outputs": [
        {
          "output_type": "stream",
          "name": "stdout",
          "text": [
            "[1, 2, 3, 4, 5, 6]\n",
            "[1, 15, 2, 3, 4, 5]\n",
            "[1, 3, 4, 5]\n"
          ]
        }
      ]
    },
    {
      "cell_type": "code",
      "source": [
        "a = [\"nammu\"]\n",
        "len(a)\n",
        "a = [1,2,3,4,5]\n",
        "a.sort()\n",
        "print(a)\n",
        "a = [1,2,3,4,5]\n",
        "a.reverse()\n",
        "a"
      ],
      "metadata": {
        "colab": {
          "base_uri": "https://localhost:8080/"
        },
        "id": "RS55vuXEe3M3",
        "outputId": "019fe93d-2958-4be3-c462-fc91af34ecbc"
      },
      "execution_count": 38,
      "outputs": [
        {
          "output_type": "stream",
          "name": "stdout",
          "text": [
            "[1, 2, 3, 4, 5]\n"
          ]
        },
        {
          "output_type": "execute_result",
          "data": {
            "text/plain": [
              "[5, 4, 3, 2, 1]"
            ]
          },
          "metadata": {},
          "execution_count": 38
        }
      ]
    },
    {
      "cell_type": "markdown",
      "source": [
        "TUPLES"
      ],
      "metadata": {
        "id": "6jq9ml3XicAK"
      }
    },
    {
      "cell_type": "code",
      "source": [
        "a = (10,20,30)\n",
        "a"
      ],
      "metadata": {
        "colab": {
          "base_uri": "https://localhost:8080/"
        },
        "id": "EWKefMZyimnE",
        "outputId": "168d4dbc-e51f-43da-cea7-fc3ca34ec7a5"
      },
      "execution_count": 40,
      "outputs": [
        {
          "output_type": "execute_result",
          "data": {
            "text/plain": [
              "(10, 20, 30)"
            ]
          },
          "metadata": {},
          "execution_count": 40
        }
      ]
    },
    {
      "cell_type": "markdown",
      "source": [
        "ACEESSING ITEMS IN A TUPLE"
      ],
      "metadata": {
        "id": "2IC2IxT4i9aK"
      }
    },
    {
      "cell_type": "code",
      "source": [
        "print(coordinates[0])"
      ],
      "metadata": {
        "colab": {
          "base_uri": "https://localhost:8080/"
        },
        "id": "AHHrzC_DjDY3",
        "outputId": "0f7cbcf4-e6f2-4f5c-b97c-55577921a145"
      },
      "execution_count": 41,
      "outputs": [
        {
          "output_type": "stream",
          "name": "stdout",
          "text": [
            "10\n"
          ]
        }
      ]
    },
    {
      "cell_type": "markdown",
      "source": [
        "accessing"
      ],
      "metadata": {
        "id": "JLFSWM1OjObQ"
      }
    },
    {
      "cell_type": "code",
      "source": [
        "print(student[\"name\"])"
      ],
      "metadata": {
        "colab": {
          "base_uri": "https://localhost:8080/"
        },
        "id": "AJcrFPBnn16e",
        "outputId": "d33436ca-4c2b-42f9-f119-2f78ddaea26b"
      },
      "execution_count": 52,
      "outputs": [
        {
          "output_type": "stream",
          "name": "stdout",
          "text": [
            "alice\n"
          ]
        }
      ]
    },
    {
      "cell_type": "markdown",
      "source": [
        "sets"
      ],
      "metadata": {
        "id": "bADMGltkon-J"
      }
    },
    {
      "cell_type": "code",
      "source": [
        "numbers = {1,2,3,4,5}\n",
        "print(a)\n"
      ],
      "metadata": {
        "colab": {
          "base_uri": "https://localhost:8080/"
        },
        "id": "WMPJwWGCopGw",
        "outputId": "b7e06433-42d7-4a16-d2c3-93dbb166e8e0"
      },
      "execution_count": 61,
      "outputs": [
        {
          "output_type": "stream",
          "name": "stdout",
          "text": [
            "{'name': 'alice', 'age': 21, 'marks': 85}\n"
          ]
        }
      ]
    },
    {
      "cell_type": "markdown",
      "source": [
        "HANDS ON PRACTICE"
      ],
      "metadata": {
        "id": "C2mbUtS3pYsb"
      }
    },
    {
      "cell_type": "markdown",
      "source": [
        "1.MANUPULATING LISTS\n"
      ],
      "metadata": {
        "id": "gfAgBd4upcPH"
      }
    },
    {
      "cell_type": "code",
      "source": [
        "fruits = [\"apple\",\"banana\",\"cherry\"]\n",
        "fruits.append(\"orange\")\n",
        "fruits.remove(\"banana\")\n",
        "print(fruits)"
      ],
      "metadata": {
        "colab": {
          "base_uri": "https://localhost:8080/"
        },
        "id": "L-MNwj6_phND",
        "outputId": "331120aa-e3b4-4ba5-e32c-c2e7a1091fd6"
      },
      "execution_count": 66,
      "outputs": [
        {
          "output_type": "stream",
          "name": "stdout",
          "text": [
            "['apple', 'cherry', 'orange']\n"
          ]
        }
      ]
    },
    {
      "cell_type": "markdown",
      "source": [
        "CREATING A DICTIONARY"
      ],
      "metadata": {
        "id": "tep8_nvcqBRk"
      }
    },
    {
      "cell_type": "code",
      "source": [
        "book = {\"title\":\"python basics\",\n",
        "        \"author\":\"john doe\",\n",
        "        \"year\":2021}\n",
        "print(book[\"title\"])\n",
        "book[\"year\"]=2022\n",
        "print(book)"
      ],
      "metadata": {
        "colab": {
          "base_uri": "https://localhost:8080/"
        },
        "id": "EV9nVy6MqFF-",
        "outputId": "2fb58fdc-f35f-4533-b66e-85a6e1c5f553"
      },
      "execution_count": 68,
      "outputs": [
        {
          "output_type": "stream",
          "name": "stdout",
          "text": [
            "python basics\n",
            "{'title': 'python basics', 'author': 'john doe', 'year': 2022}\n"
          ]
        }
      ]
    },
    {
      "cell_type": "markdown",
      "source": [
        "WORKING WITH SETS"
      ],
      "metadata": {
        "id": "r8AmcNuYq1pl"
      }
    },
    {
      "cell_type": "code",
      "source": [
        "set1 = {1,2,3,4}\n",
        "set2 = {3,4,5,6}\n",
        "print(\"union:\",set1|set2)\n",
        "print(\"intersection:\",set1 & set2)\n",
        "print(\"difference:\",set1 - set2)"
      ],
      "metadata": {
        "colab": {
          "base_uri": "https://localhost:8080/"
        },
        "id": "EbN4q093q40I",
        "outputId": "7e4d374b-5899-4871-934d-880e710003ce"
      },
      "execution_count": 69,
      "outputs": [
        {
          "output_type": "stream",
          "name": "stdout",
          "text": [
            "union: {1, 2, 3, 4, 5, 6}\n",
            "intersection: {3, 4}\n",
            "difference: {1, 2}\n"
          ]
        }
      ]
    },
    {
      "cell_type": "markdown",
      "source": [
        "16] MERGE TWO LISTS"
      ],
      "metadata": {
        "id": "ftc2EQUKr4rp"
      }
    },
    {
      "cell_type": "code",
      "source": [
        "list1 =[1,2,3]\n",
        "list2 =[4,5,6]\n",
        "merged_list = list1 + list2\n",
        "print(\"merged list:\",merged_list)"
      ],
      "metadata": {
        "colab": {
          "base_uri": "https://localhost:8080/"
        },
        "id": "1dcsDD2ar-Lo",
        "outputId": "1c9b7b01-1f84-4cbd-f9d0-cfcc6547efe9"
      },
      "execution_count": 78,
      "outputs": [
        {
          "output_type": "stream",
          "name": "stdout",
          "text": [
            "merged list: [1, 2, 3, 4, 5, 6]\n"
          ]
        }
      ]
    },
    {
      "cell_type": "markdown",
      "source": [
        "17]  DICTIONARY OPERATIONS"
      ],
      "metadata": {
        "id": "U9f7YkZ-tBm8"
      }
    },
    {
      "cell_type": "code",
      "source": [
        "student = {\"name\":\"john\",\"age\":21,\"marks\":85}\n",
        "print(\"name:\",student[\"name\"])\n",
        "student[\"marks\"] =90\n",
        "print(\"updates marks:\",student[\"marks\"])"
      ],
      "metadata": {
        "colab": {
          "base_uri": "https://localhost:8080/"
        },
        "id": "pmVdfp9RtGbJ",
        "outputId": "8d3e7a6e-6da4-49ac-f52c-5d5a5840ea31"
      },
      "execution_count": 79,
      "outputs": [
        {
          "output_type": "stream",
          "name": "stdout",
          "text": [
            "name: john\n",
            "updates marks: 90\n"
          ]
        }
      ]
    },
    {
      "cell_type": "markdown",
      "source": [
        "18] FIND THE MAXIMUM AND MINIMUM IN A LIST"
      ],
      "metadata": {
        "id": "ARxYHiPmt8FZ"
      }
    },
    {
      "cell_type": "code",
      "source": [
        "numbers = [10,20,30,40,50]\n",
        "print(\"Maximum:\", max(numbers))\n",
        "print(\"Minimum:\", min(numbers))"
      ],
      "metadata": {
        "colab": {
          "base_uri": "https://localhost:8080/"
        },
        "id": "ALgEiH-nuDZZ",
        "outputId": "eb6d1293-8f81-4d17-dedf-1c965cabe43d"
      },
      "execution_count": 81,
      "outputs": [
        {
          "output_type": "stream",
          "name": "stdout",
          "text": [
            "Maximum: 50\n",
            "Minimum: 10\n"
          ]
        }
      ]
    },
    {
      "cell_type": "markdown",
      "source": [
        "19]  COUNT FREQUENCY OF ELEMENTS IN A LIST\n"
      ],
      "metadata": {
        "id": "Ugjy4PvVvh4-"
      }
    },
    {
      "cell_type": "code",
      "source": [
        "numbers = [1,2,3,3,3,4,4,4,4]\n",
        "frequency = {}\n",
        "for num in numbers:\n",
        "  frequency[num] = frequency.get(num,0) + 1\n",
        "print(\"frequency of elements:\",frequency)"
      ],
      "metadata": {
        "colab": {
          "base_uri": "https://localhost:8080/"
        },
        "id": "izM0BNFavwOh",
        "outputId": "75fa4a5e-fdc6-468a-deaa-f653537d0733"
      },
      "execution_count": 82,
      "outputs": [
        {
          "output_type": "stream",
          "name": "stdout",
          "text": [
            "frequency of elements: {1: 1, 2: 1, 3: 3, 4: 4}\n"
          ]
        }
      ]
    },
    {
      "cell_type": "markdown",
      "source": [
        "20]  SORT A LIST OF TUPLES BY THE SECOND ELEMENTS"
      ],
      "metadata": {
        "id": "fSqqETTswmSy"
      }
    },
    {
      "cell_type": "code",
      "source": [
        "tuples =[(1,'apple'),(2,'banana'),(3,'cherry')]\n",
        "sorted_tuples = sorted(tuples,key=lambda x:x[1])\n",
        "print(\"sorted tuples:\", sorted_tuples)"
      ],
      "metadata": {
        "colab": {
          "base_uri": "https://localhost:8080/"
        },
        "id": "nzgBG95WwwR0",
        "outputId": "a2c646ab-8c3a-4b42-cbf4-b91f2d86504c"
      },
      "execution_count": 86,
      "outputs": [
        {
          "output_type": "stream",
          "name": "stdout",
          "text": [
            "sorted tuples: [(1, 'apple'), (2, 'banana'), (3, 'cherry')]\n"
          ]
        }
      ]
    },
    {
      "cell_type": "markdown",
      "source": [
        "DICTIONARY"
      ],
      "metadata": {
        "id": "fUc4vkyWyBNU"
      }
    },
    {
      "cell_type": "code",
      "source": [
        "student={\"name\": \"megha\",\"age\":18, \"colour\": \"white\"}\n",
        "print(student)\n",
        "print(student[\"name\"])\n",
        "print(student[ 'colour'])\n",
        "print(student[\"age\"])"
      ],
      "metadata": {
        "colab": {
          "base_uri": "https://localhost:8080/"
        },
        "id": "KHu-4CH_yGvT",
        "outputId": "e9363233-06fe-457f-ef6d-d09f68a1c268"
      },
      "execution_count": 87,
      "outputs": [
        {
          "output_type": "stream",
          "name": "stdout",
          "text": [
            "{'name': 'megha', 'age': 18, 'colour': 'white'}\n",
            "megha\n",
            "white\n",
            "18\n"
          ]
        }
      ]
    },
    {
      "cell_type": "code",
      "source": [
        "student[\"age\"]=15\n",
        "student"
      ],
      "metadata": {
        "colab": {
          "base_uri": "https://localhost:8080/"
        },
        "id": "mdzRbA0QzD-W",
        "outputId": "09c8e86b-681c-4f32-c2c0-ba27546ec596"
      },
      "execution_count": 88,
      "outputs": [
        {
          "output_type": "execute_result",
          "data": {
            "text/plain": [
              "{'name': 'megha', 'age': 15, 'colour': 'white'}"
            ]
          },
          "metadata": {},
          "execution_count": 88
        }
      ]
    },
    {
      "cell_type": "code",
      "source": [
        "#adding"
      ],
      "metadata": {
        "id": "RK9AWDRjzRCG"
      },
      "execution_count": null,
      "outputs": []
    },
    {
      "cell_type": "code",
      "source": [
        "student['grade']=\"A\"\n",
        "student"
      ],
      "metadata": {
        "colab": {
          "base_uri": "https://localhost:8080/"
        },
        "id": "Vo3esH2TzT9h",
        "outputId": "7f9bee50-7cde-4c27-9325-1605844d1cfe"
      },
      "execution_count": 89,
      "outputs": [
        {
          "output_type": "execute_result",
          "data": {
            "text/plain": [
              "{'name': 'megha', 'age': 15, 'colour': 'white', 'grade': 'A'}"
            ]
          },
          "metadata": {},
          "execution_count": 89
        }
      ]
    },
    {
      "cell_type": "markdown",
      "source": [
        " #important\n",
        "PALIDROME"
      ],
      "metadata": {
        "id": "Qt6FpzqD3dvO"
      }
    },
    {
      "cell_type": "code",
      "source": [
        "number = int(input(\"enter a number:\"))\n",
        "reverse_number = 0\n",
        "temp = number\n",
        "\n",
        "while temp> 0:\n",
        "  digit = temp % 10\n",
        "  reverse_number = reverse_number * 10 + digit\n",
        "  temp = temp// 10\n",
        "\n",
        "if number == reverse_number:\n",
        "    print(f\" {number}pali\")\n",
        "else:\n",
        "  print(f\"{number} not pali\")"
      ],
      "metadata": {
        "colab": {
          "base_uri": "https://localhost:8080/"
        },
        "id": "bky_U1jW3hFk",
        "outputId": "df54337a-26fe-49a9-ebe9-b799a21edda3"
      },
      "execution_count": 92,
      "outputs": [
        {
          "output_type": "stream",
          "name": "stdout",
          "text": [
            "enter a number:344\n",
            "344 not pali\n"
          ]
        }
      ]
    },
    {
      "cell_type": "code",
      "source": [
        "number = input(\"enter a number: \")\n",
        "if number == number[::-1]:\n",
        "  print(\"palidrome\")\n",
        "else:\n",
        "  print(\"not palidrome\")"
      ],
      "metadata": {
        "id": "hnbkerm663h0",
        "outputId": "711cad55-486a-4238-dc0d-56087c7e7007",
        "colab": {
          "base_uri": "https://localhost:8080/"
        }
      },
      "execution_count": 93,
      "outputs": [
        {
          "output_type": "stream",
          "name": "stdout",
          "text": [
            "enter a number: sos\n",
            "palidrome\n"
          ]
        }
      ]
    }
  ]
}