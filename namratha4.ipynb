{
  "nbformat": 4,
  "nbformat_minor": 0,
  "metadata": {
    "colab": {
      "provenance": []
    },
    "kernelspec": {
      "name": "python3",
      "display_name": "Python 3"
    },
    "language_info": {
      "name": "python"
    }
  },
  "cells": [
    {
      "cell_type": "code",
      "execution_count": null,
      "metadata": {
        "id": "2iWkRszgR8DK"
      },
      "outputs": [],
      "source": []
    },
    {
      "cell_type": "markdown",
      "source": [
        "ARITHEMATIC FUNCTION"
      ],
      "metadata": {
        "id": "B8_m2dc_SBG5"
      }
    },
    {
      "cell_type": "code",
      "source": [
        "a=int(input('enter a number: '))\n",
        "b=int(input('enter a number: '))\n",
        "print(a+b)\n",
        "print(a-b)\n",
        "print(a*b)\n",
        "print(a/b)\n",
        "print(a%b)\n",
        "print(a**b)\n",
        "print(a//b)"
      ],
      "metadata": {
        "colab": {
          "base_uri": "https://localhost:8080/"
        },
        "id": "5cBIAf7MSE7c",
        "outputId": "738c5527-4c77-455d-ca6b-de2387132cd2"
      },
      "execution_count": 7,
      "outputs": [
        {
          "output_type": "stream",
          "name": "stdout",
          "text": [
            "enter a number: 55\n",
            "enter a number: 22\n",
            "77\n",
            "33\n",
            "1210\n",
            "2.5\n",
            "11\n",
            "194079278437709238799383640289306640625\n",
            "2\n"
          ]
        }
      ]
    }
  ]
}