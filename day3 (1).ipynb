{
  "nbformat": 4,
  "nbformat_minor": 0,
  "metadata": {
    "colab": {
      "provenance": []
    },
    "kernelspec": {
      "name": "python3",
      "display_name": "Python 3"
    },
    "language_info": {
      "name": "python"
    }
  },
  "cells": [
    {
      "cell_type": "code",
      "execution_count": null,
      "metadata": {
        "id": "n-W7oT5PZNOV"
      },
      "outputs": [],
      "source": []
    },
    {
      "cell_type": "markdown",
      "source": [
        "FUNCTION AND MODULES"
      ],
      "metadata": {
        "id": "8gBC7d4ueVgp"
      }
    },
    {
      "cell_type": "code",
      "source": [
        "def greet(name):\n",
        "  print(\"hello,\" + name + \"!\")\n",
        "greet(\"alice\")"
      ],
      "metadata": {
        "colab": {
          "base_uri": "https://localhost:8080/"
        },
        "id": "dieUyDbSeZL4",
        "outputId": "4f65f3ee-8950-48bd-93c1-1080a0e4b756"
      },
      "execution_count": 16,
      "outputs": [
        {
          "output_type": "stream",
          "name": "stdout",
          "text": [
            "hello,alice!\n"
          ]
        }
      ]
    },
    {
      "cell_type": "markdown",
      "source": [
        "1 positional argument"
      ],
      "metadata": {
        "id": "qcPOh6mHfEp1"
      }
    },
    {
      "cell_type": "code",
      "source": [
        "def add(a,b):\n",
        "  return a+b\n",
        "\n",
        "print(add(5,3))"
      ],
      "metadata": {
        "colab": {
          "base_uri": "https://localhost:8080/"
        },
        "id": "9-3MrVz-fLZp",
        "outputId": "c159c686-c5fc-4379-99a0-b6e866406e75"
      },
      "execution_count": 22,
      "outputs": [
        {
          "output_type": "stream",
          "name": "stdout",
          "text": [
            "8\n"
          ]
        }
      ]
    },
    {
      "cell_type": "markdown",
      "source": [
        "2  KEYWORD ARGUMENT"
      ],
      "metadata": {
        "id": "g896L3fygPlK"
      }
    },
    {
      "cell_type": "code",
      "source": [
        "def greet(name, message):\n",
        "  print(message + \" ,\" + name + \"!\")\n",
        "greet(name=\"alice\", message=\"good morning\")\n"
      ],
      "metadata": {
        "colab": {
          "base_uri": "https://localhost:8080/"
        },
        "id": "viSEntIsgUSy",
        "outputId": "0f25ded3-6684-449a-e0b7-4048303e3f7d"
      },
      "execution_count": 25,
      "outputs": [
        {
          "output_type": "stream",
          "name": "stdout",
          "text": [
            "good morning ,alice!\n"
          ]
        }
      ]
    },
    {
      "cell_type": "markdown",
      "source": [
        "3 DEFAULT ARGUMENTS"
      ],
      "metadata": {
        "id": "56riKP4Qg-cw"
      }
    },
    {
      "cell_type": "code",
      "source": [
        "def greet(name,message=\"hello\"):\n",
        "  print(message + \",\" + name + \"!\")\n",
        "greet (\"alice\")\n",
        "greet(\"bob\",\"hi\")"
      ],
      "metadata": {
        "colab": {
          "base_uri": "https://localhost:8080/"
        },
        "id": "tKkh7E9Gha5Q",
        "outputId": "edbeab71-d41a-4e56-d63d-1b71d107e42b"
      },
      "execution_count": 29,
      "outputs": [
        {
          "output_type": "stream",
          "name": "stdout",
          "text": [
            "hello,alice!\n",
            "hi,bob!\n"
          ]
        }
      ]
    },
    {
      "cell_type": "markdown",
      "source": [
        "VARIABLE LENGTH ARGUMENT"
      ],
      "metadata": {
        "id": "b1P0-04UlFf-"
      }
    },
    {
      "cell_type": "code",
      "source": [
        "def rajesh(**numbers):\n",
        "  for key, value in numbers.items():\n",
        "        print(f\"{key}: {value}\")\n",
        "rajesh(name=\"rajesh\", age=25, city=\"new york\")"
      ],
      "metadata": {
        "colab": {
          "base_uri": "https://localhost:8080/"
        },
        "id": "G_dTaFZZlZWc",
        "outputId": "df89a8e1-82c9-40bc-ed7d-ebcfffae1531"
      },
      "execution_count": 36,
      "outputs": [
        {
          "output_type": "stream",
          "name": "stdout",
          "text": [
            "name: rajesh\n",
            "age: 25\n",
            "city: new york\n"
          ]
        }
      ]
    },
    {
      "cell_type": "markdown",
      "source": [
        "RETURN STATEMENT"
      ],
      "metadata": {
        "id": "q2kOrQJhncu6"
      }
    },
    {
      "cell_type": "code",
      "source": [
        "def square(num):\n",
        "  return num * num\n",
        "square(5)\n",
        "\n",
        "\n"
      ],
      "metadata": {
        "colab": {
          "base_uri": "https://localhost:8080/"
        },
        "id": "BZhKYLRnndae",
        "outputId": "8ca12012-6478-4c6b-f75a-0bee7ddbd599"
      },
      "execution_count": 49,
      "outputs": [
        {
          "output_type": "execute_result",
          "data": {
            "text/plain": [
              "25"
            ]
          },
          "metadata": {},
          "execution_count": 49
        }
      ]
    },
    {
      "cell_type": "code",
      "source": [
        "result = square(7)\n",
        "print(\"square is :\" ,result)"
      ],
      "metadata": {
        "colab": {
          "base_uri": "https://localhost:8080/"
        },
        "id": "bZG5nkYcqEf3",
        "outputId": "a537dc28-afbc-437d-9b52-501d21485b53"
      },
      "execution_count": 50,
      "outputs": [
        {
          "output_type": "stream",
          "name": "stdout",
          "text": [
            "square is : 49\n"
          ]
        }
      ]
    },
    {
      "cell_type": "markdown",
      "source": [
        "MODULES"
      ],
      "metadata": {
        "id": "--L7dCEZqbHl"
      }
    },
    {
      "cell_type": "markdown",
      "source": [
        "2 IMPORTING MODULE"
      ],
      "metadata": {
        "id": "p5P1zo2equLk"
      }
    },
    {
      "cell_type": "code",
      "source": [
        "import math\n",
        "print(math.sqrt(16))"
      ],
      "metadata": {
        "colab": {
          "base_uri": "https://localhost:8080/"
        },
        "id": "qD7cSGcnq3O_",
        "outputId": "81225cdd-7b6d-4e6d-ca2e-895a10a381ff"
      },
      "execution_count": 51,
      "outputs": [
        {
          "output_type": "stream",
          "name": "stdout",
          "text": [
            "4.0\n"
          ]
        }
      ]
    },
    {
      "cell_type": "markdown",
      "source": [
        "IMPORT SPECIFIC FUNCTION"
      ],
      "metadata": {
        "id": "WndIvgCTrDdd"
      }
    },
    {
      "cell_type": "code",
      "source": [
        "from math import pi, sin\n",
        "print(pi)\n",
        "print(sin(math.radians(90)))"
      ],
      "metadata": {
        "colab": {
          "base_uri": "https://localhost:8080/"
        },
        "collapsed": true,
        "id": "jc_MjKxjrTAP",
        "outputId": "e360b359-0015-4b8e-e261-cde4b2b345f9"
      },
      "execution_count": 63,
      "outputs": [
        {
          "output_type": "stream",
          "name": "stdout",
          "text": [
            "3.141592653589793\n",
            "1.0\n"
          ]
        }
      ]
    },
    {
      "cell_type": "code",
      "source": [],
      "metadata": {
        "id": "XVWzCKKgtspV"
      },
      "execution_count": null,
      "outputs": []
    },
    {
      "cell_type": "markdown",
      "source": [],
      "metadata": {
        "id": "FQ4q8g7ttt4O"
      }
    },
    {
      "cell_type": "code",
      "source": [
        "Skip to main content\n",
        "day3.ipynb\n",
        "day3.ipynb_\n",
        "All changes saved\n",
        "\n",
        "[ ]\n",
        "\n",
        "Start coding or generate with AI.\n",
        "FUNCTION AND MODULES\n",
        "\n",
        "\n",
        "[16]\n",
        "0s\n",
        "def greet(name):\n",
        "  print(\"hello,\" + name + \"!\")\n",
        "greet(\"alice\")\n",
        "hello,alice!\n",
        "1 positional argument\n",
        "\n",
        "\n",
        "[21]\n",
        "0s\n",
        "def add(a,b):\n",
        "  return a+b\n",
        "\n",
        "print(add(5,3))\n",
        "8\n",
        "2 KEYWORD ARGUMENT\n",
        "\n",
        "\n",
        "[24]\n",
        "0s\n",
        "def greet(name, message):\n",
        "  print(message + \" ,\" + name + \"!\")\n",
        "greet(name=\"alice\", message=\"good morning\")\n",
        "\n",
        "good morning ,alice!\n",
        "3 DEFAULT ARGUMENTS\n",
        "\n",
        "\n",
        "[28]\n",
        "0s\n",
        "def greet(name,message=\"hello\"):\n",
        "  print(message + \",\" + name + \"!\")\n",
        "greet (\"alice\")\n",
        "greet(\"bob\",\"hi\")\n",
        "hello,alice!\n",
        "hi,bob!\n",
        "VARIABLE LENGTH ARGUMENT\n",
        "\n",
        "\n",
        "[33]\n",
        "0s\n",
        "def rajesh(**numbers):\n",
        "  for key, value in numbers.items():\n",
        "        print(f\"{key}: {value}\")\n",
        "rajesh(name=\"rajesh\", age=25, city=\"new york\")\n",
        "name: rajesh\n",
        "age: 25\n",
        "city: new york\n",
        "RETURN STATEMENT\n",
        "\n",
        "\n",
        "[46]\n",
        "0s\n",
        "def square(num):\n",
        "  return num * num\n",
        "square(5)\n",
        "\n",
        "\n",
        "\n",
        "25\n",
        "\n",
        "[47]\n",
        "0s\n",
        "result = square(7)\n",
        "print(\"square is :\" ,result)\n",
        "square is : 49\n",
        "MODULES\n",
        "\n",
        "2 IMPORTING MODULE\n",
        "\n",
        "\n",
        "[48]\n",
        "0s\n",
        "import math\n",
        "print(math.sqrt(16))\n",
        "4.0\n",
        "IMPORT SPECIFIC FUNCTION\n",
        "\n",
        "\n",
        "[60]\n",
        "0s\n",
        "from math import pi, sin\n",
        "print(pi)\n",
        "print(sin(math.radians(90\n",
        "\n",
        "def greet(name):\n",
        "  print(\"Hello,\" + name)\n",
        "def add(a,b):\n",
        "  return a+b\n",
        "import my_module\n",
        "rajesh.great(\"alice\")\n",
        "print(rajesh.add(5,3))"
      ],
      "metadata": {
        "id": "bABnJ9x_uVKl"
      },
      "execution_count": null,
      "outputs": []
    },
    {
      "cell_type": "code",
      "source": [],
      "metadata": {
        "id": "O4ZwySWZGTTB"
      },
      "execution_count": null,
      "outputs": []
    },
    {
      "cell_type": "markdown",
      "source": [
        "PRIME NUMBER"
      ],
      "metadata": {
        "id": "fAyeEuE_GRU_"
      }
    },
    {
      "cell_type": "code",
      "source": [
        "def is_prime(num):\n",
        "  if num <= 1:\n",
        "    return False\n",
        "  for i in range(2, int(num ** 0.5 ) + 1):\n",
        "    if num % i == 0:\n",
        "     return False\n",
        "  return True\n",
        "\n",
        "  number =int(input(\"enter a number: \"))\n",
        "  if is_prime(number):\n",
        "    print(\"the number is prime.\")\n",
        "  else:\n",
        "    print(\"the number is not prime.\")\n",
        ""
      ],
      "metadata": {
        "collapsed": true,
        "id": "-U2FWIcWu_x6"
      },
      "execution_count": 88,
      "outputs": []
    },
    {
      "cell_type": "markdown",
      "source": [
        "FIBONACCI SERIES"
      ],
      "metadata": {
        "id": "6CCety2-Mi7W"
      }
    },
    {
      "cell_type": "code",
      "source": [
        "def fibonacci(n):\n",
        "  sequence=[]\n",
        "  a, b = 0, 1\n",
        "  for _ in range(n):\n",
        "    sequence.append(a)\n",
        "    a, b = b, a+b\n",
        "  return sequence\n",
        "\n",
        "terms =int(input(\"enter the number of terms:\"))\n",
        "print(\"fibonacci sequence:\",fibonacci(terms))"
      ],
      "metadata": {
        "colab": {
          "base_uri": "https://localhost:8080/"
        },
        "id": "RMwkUNG2MqAA",
        "outputId": "698867bc-7260-4f59-a9a9-9236a8499369"
      },
      "execution_count": 82,
      "outputs": [
        {
          "output_type": "stream",
          "name": "stdout",
          "text": [
            "enter the number of terms:8\n",
            "fibonacci sequence: [0, 1, 1, 2, 3, 5, 8, 13]\n"
          ]
        }
      ]
    },
    {
      "cell_type": "markdown",
      "source": [
        "FACTORIAL NUMBER"
      ],
      "metadata": {
        "id": "Mgi_TGpVQ59W"
      }
    },
    {
      "cell_type": "code",
      "source": [
        "def factorial(n):\n",
        "  if n ==0:\n",
        "    return 1\n",
        "  else:\n",
        "      return n *factorial(n-1)\n",
        "\n",
        "num = int(input(\"enter a number: \"))\n",
        "print(\"factorial:\",factorial(num))"
      ],
      "metadata": {
        "colab": {
          "base_uri": "https://localhost:8080/"
        },
        "id": "YcNverfmSe0R",
        "outputId": "364351f0-dfad-41e2-9d4e-174d76951c87"
      },
      "execution_count": 90,
      "outputs": [
        {
          "output_type": "stream",
          "name": "stdout",
          "text": [
            "enter a number: 5\n",
            "factorial: 120\n"
          ]
        }
      ]
    },
    {
      "cell_type": "markdown",
      "source": [
        "FIBONACCI SERIES USING FUNCTIONS"
      ],
      "metadata": {
        "id": "iB6vy_rvTORT"
      }
    },
    {
      "cell_type": "code",
      "source": [
        "def fibonacci(n):\n",
        "  a, b = 0,1\n",
        "  for _ in range(n):\n",
        "    print(a, end=\"\")\n",
        "    a, b = b, a+b\n",
        "count =int(input(\"enter the number of terms: \"))\n",
        "fibonacci(count)"
      ],
      "metadata": {
        "colab": {
          "base_uri": "https://localhost:8080/"
        },
        "id": "Y9Z2O5_CTcLK",
        "outputId": "6b766e55-3805-46fe-fc3b-e41504b476ea"
      },
      "execution_count": 91,
      "outputs": [
        {
          "output_type": "stream",
          "name": "stdout",
          "text": [
            "enter the number of terms: 7\n",
            "0112358"
          ]
        }
      ]
    },
    {
      "cell_type": "markdown",
      "source": [
        "CHECK IF A NUMBER IS PRIME"
      ],
      "metadata": {
        "id": "qIjUpWvyU_H0"
      }
    },
    {
      "cell_type": "code",
      "source": [
        "def is_prime(n):\n",
        "  if n <= 1:\n",
        "    return False\n",
        "  for i in range(2,int(n ** 0.5)+ 1):\n",
        "    if n % i==0:\n",
        "      return False\n",
        "    return True\n",
        "\n",
        "num = int(input(\"enter a number: \"))\n",
        "if is_prime(num):\n",
        "     print(\"prime number\")\n",
        "else:\n",
        "     print(\"not a prime number\")\n"
      ],
      "metadata": {
        "colab": {
          "base_uri": "https://localhost:8080/"
        },
        "id": "imZ_X8rzVFBw",
        "outputId": "66b0519a-69aa-4fed-c7c9-a4f75da7b4c5"
      },
      "execution_count": 123,
      "outputs": [
        {
          "output_type": "stream",
          "name": "stdout",
          "text": [
            "enter a number: 7\n",
            "prime number\n"
          ]
        }
      ]
    },
    {
      "cell_type": "markdown",
      "source": [
        "REVERSE A STRING USING A FUNCTION"
      ],
      "metadata": {
        "id": "qd77HaT5ZOvg"
      }
    },
    {
      "cell_type": "code",
      "source": [
        "def reverse_string(s):\n",
        "  return s [::-1]\n",
        "\n",
        "text = input(\"enter a string:\")\n",
        "print(\"\n",
        "reversed string:, reverse_string(text)\")"
      ],
      "metadata": {
        "colab": {
          "base_uri": "https://localhost:8080/"
        },
        "id": "APjnno1bZW9S",
        "outputId": "f014ed89-7ef0-4b64-b1c4-a9ede3042c7a"
      },
      "execution_count": 124,
      "outputs": [
        {
          "output_type": "stream",
          "name": "stdout",
          "text": [
            "enter a string:\"\"\n",
            "reversed string:, reverse_string(text)\n"
          ]
        }
      ]
    }
  ]
}