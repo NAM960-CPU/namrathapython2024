{
  "nbformat": 4,
  "nbformat_minor": 0,
  "metadata": {
    "colab": {
      "provenance": []
    },
    "kernelspec": {
      "name": "python3",
      "display_name": "Python 3"
    },
    "language_info": {
      "name": "python"
    }
  },
  "cells": [
    {
      "cell_type": "code",
      "execution_count": null,
      "metadata": {
        "id": "cQRm_Yo1lFL8"
      },
      "outputs": [],
      "source": []
    },
    {
      "cell_type": "markdown",
      "source": [
        "DAY 6: FILE HANDLING AND ERROR HANDLING IN PYTHON"
      ],
      "metadata": {
        "id": "ONtcl2iWlF-C"
      }
    },
    {
      "cell_type": "markdown",
      "source": [
        "reading file"
      ],
      "metadata": {
        "id": "EMwrMwtVzBoR"
      }
    },
    {
      "cell_type": "code",
      "source": [
        "file = open(\"/namratha hm.txt\",\"r\")\n",
        "content = file.read()\n",
        "print(content)\n",
        "file.close()"
      ],
      "metadata": {
        "colab": {
          "base_uri": "https://localhost:8080/"
        },
        "id": "y9PpCvhwpZvN",
        "outputId": "f6e84af5-da72-4994-bf0b-ab598ba1d811"
      },
      "execution_count": 5,
      "outputs": [
        {
          "output_type": "stream",
          "name": "stdout",
          "text": [
            "namratha hm\n"
          ]
        }
      ]
    },
    {
      "cell_type": "markdown",
      "source": [
        "2. writing file"
      ],
      "metadata": {
        "id": "ViD2mFqGyn0c"
      }
    },
    {
      "cell_type": "code",
      "source": [
        "file = open(\"/namratha hm.txt\",\"w\")\n",
        "file.write(\"hello,world!\\n\")\n",
        "file.close()"
      ],
      "metadata": {
        "id": "erRReAAtyqxs"
      },
      "execution_count": 12,
      "outputs": []
    },
    {
      "cell_type": "markdown",
      "source": [
        "APPENDING TO A FILE"
      ],
      "metadata": {
        "id": "KRwo_0ZG0AId"
      }
    },
    {
      "cell_type": "code",
      "source": [
        "file = open(\"/namratha hm.txt\",\"a\")\n",
        "file.write(\"this is an appended line.\\n\")\n",
        "file.close()"
      ],
      "metadata": {
        "id": "9Kgn9vHU0FtT"
      },
      "execution_count": 14,
      "outputs": []
    },
    {
      "cell_type": "markdown",
      "source": [
        "USING 'WITH' STATEMENT"
      ],
      "metadata": {
        "id": "HS9dbX-A0iIK"
      }
    },
    {
      "cell_type": "code",
      "source": [
        "with open(\"/namratha hm.txt\", \"r\")as file:\n",
        "  content = file.read()\n",
        "print(content)"
      ],
      "metadata": {
        "colab": {
          "base_uri": "https://localhost:8080/"
        },
        "id": "eYIFp9t90odB",
        "outputId": "854db8ab-2c0f-4cf0-9ef7-e638d28acc6f"
      },
      "execution_count": 21,
      "outputs": [
        {
          "output_type": "stream",
          "name": "stdout",
          "text": [
            "hello,world!\n",
            "this is an appended line.\n",
            "this is an appended line.\n",
            "\n"
          ]
        }
      ]
    },
    {
      "cell_type": "markdown",
      "source": [
        "6. file handling modes"
      ],
      "metadata": {
        "id": "rh0cNCmI2VBb"
      }
    },
    {
      "cell_type": "code",
      "source": [
        "with open(\"/WhatsApp Image 2024-12-13 at 21.01.22_ebe7efef.jpg\",\"rb\")as file:\n",
        "  data = file.read()"
      ],
      "metadata": {
        "id": "F2Z3Tafl2afx"
      },
      "execution_count": 26,
      "outputs": []
    },
    {
      "cell_type": "markdown",
      "source": [
        "ERROR HANDLING\n",
        "TRY EXCEPT BLOCK"
      ],
      "metadata": {
        "id": "9RZVxR0A35mI"
      }
    },
    {
      "cell_type": "code",
      "source": [
        "try:\n",
        "  num = int(input(\"enter a number: \"))\n",
        "  print(10 / num)\n",
        "except ZeroDivisionError:\n",
        "  print(\"you cannot divide by zero.\")\n",
        "except ValueError:\n",
        "  print(\"invalid input! please enter a number\")"
      ],
      "metadata": {
        "colab": {
          "base_uri": "https://localhost:8080/"
        },
        "id": "8eHgPkZo4Gsj",
        "outputId": "3bc2455c-d818-4d0e-da02-d03898f065ca"
      },
      "execution_count": 23,
      "outputs": [
        {
          "output_type": "stream",
          "name": "stdout",
          "text": [
            "enter a number: 10\n",
            "1.0\n"
          ]
        }
      ]
    },
    {
      "cell_type": "markdown",
      "source": [
        "FINALLY BLOCK"
      ],
      "metadata": {
        "id": "KjfjrGrv8-Zq"
      }
    },
    {
      "cell_type": "code",
      "source": [
        "try:\n",
        "  file = open(\"/namratha hm.txt\",\"r\")\n",
        "except FileNotFoundError:\n",
        "  print(\"file not found.\")\n",
        "finally:\n",
        "  print(\"Execution complete\")"
      ],
      "metadata": {
        "colab": {
          "base_uri": "https://localhost:8080/"
        },
        "id": "Qw-6d2pF9HE0",
        "outputId": "38445b19-a113-4631-fde4-632e8d9baf97"
      },
      "execution_count": 24,
      "outputs": [
        {
          "output_type": "stream",
          "name": "stdout",
          "text": [
            "Execution complete\n"
          ]
        }
      ]
    },
    {
      "cell_type": "markdown",
      "source": [
        "RAISING EXCEPTIONS"
      ],
      "metadata": {
        "id": "vzo0JGwP-AKk"
      }
    },
    {
      "cell_type": "code",
      "source": [
        "def check_age(age):\n",
        "  if age < 18:\n",
        "    raise ValueError(\"age must be 18 or older.\")\n",
        "  return True\n",
        "\n",
        "try:\n",
        "  check_age(16)\n",
        "except ValueError as e:\n",
        "  print(e)"
      ],
      "metadata": {
        "colab": {
          "base_uri": "https://localhost:8080/"
        },
        "id": "UHeHCfi9-Im5",
        "outputId": "c586b48c-5b78-4cac-bcc4-5e5d60e4fc41"
      },
      "execution_count": 25,
      "outputs": [
        {
          "output_type": "stream",
          "name": "stdout",
          "text": [
            "age must be 18 or older.\n"
          ]
        }
      ]
    },
    {
      "cell_type": "markdown",
      "source": [
        "HANDS ON PRACTICE\n",
        "1. READIND AND WRITING TO A FILE"
      ],
      "metadata": {
        "id": "pjECNUd5CBYW"
      }
    },
    {
      "cell_type": "code",
      "source": [
        "with open(\"/namratha hm.txt\",\"w\")as file:\n",
        "  file.write(\"python is awesome!\\n\")\n",
        "\n",
        "with open(\"/namratha hm.txt\",\"r\")as file:\n",
        "  print(file.read())"
      ],
      "metadata": {
        "colab": {
          "base_uri": "https://localhost:8080/"
        },
        "id": "HnoJzQyJCJNv",
        "outputId": "53737f81-007e-4a89-fcc8-f05fae028ce9"
      },
      "execution_count": 27,
      "outputs": [
        {
          "output_type": "stream",
          "name": "stdout",
          "text": [
            "python is awesome!\n",
            "\n"
          ]
        }
      ]
    },
    {
      "cell_type": "markdown",
      "source": [
        "2. APPENDING DATA A FILE"
      ],
      "metadata": {
        "id": "bi9hojTeC5ma"
      }
    },
    {
      "cell_type": "code",
      "source": [
        "with open(\"/namratha hm.txt\",\"a\")as file:\n",
        "  file.write(\"let's learn file handling.\\n\")\n",
        "\n",
        "with open(\"/namratha hm.txt\",\"r\")as file:\n",
        "  print(file.read())"
      ],
      "metadata": {
        "colab": {
          "base_uri": "https://localhost:8080/"
        },
        "id": "WTMdxBOIDCFs",
        "outputId": "643090be-cca8-498a-a0a9-72e2aca27de9"
      },
      "execution_count": 29,
      "outputs": [
        {
          "output_type": "stream",
          "name": "stdout",
          "text": [
            "python is awesome!\n",
            "let's learn file handling.\n",
            "\n"
          ]
        }
      ]
    },
    {
      "cell_type": "markdown",
      "source": [
        "3 HANDLING DIVISION BY ZERO"
      ],
      "metadata": {
        "id": "XCOPVgQZDzKQ"
      }
    },
    {
      "cell_type": "code",
      "source": [
        "try:\n",
        "  num1 = int(input(\"enter numerator: \"))\n",
        "  num2 = int(input(\"enter denominator: \"))\n",
        "  result = num1 / num2\n",
        "  print(\"result:\",result)\n",
        "except ZeroDivisionError:\n",
        "  print(\"cannot divide by zero.\")\n",
        "except ValueError:\n",
        "  print(\"invalid input! enter numeric values\")"
      ],
      "metadata": {
        "colab": {
          "base_uri": "https://localhost:8080/"
        },
        "id": "9gcMOV8yD97L",
        "outputId": "e2d12968-f71d-4f7d-af5d-ee1706468fca"
      },
      "execution_count": 30,
      "outputs": [
        {
          "output_type": "stream",
          "name": "stdout",
          "text": [
            "enter numerator: 5\n",
            "enter denominator: 6\n",
            "result: 0.8333333333333334\n"
          ]
        }
      ]
    },
    {
      "cell_type": "markdown",
      "source": [
        "4. CREATING A CUSTOM EXCEPTION"
      ],
      "metadata": {
        "id": "B_FKc7K4FEH3"
      }
    },
    {
      "cell_type": "code",
      "source": [
        "def check_positive(number):\n",
        "  if number< 0:\n",
        "    raise NegativeNumberserror(\"Negative number entered.\")\n",
        "\n",
        "try:\n",
        "  num = int(input(\"enter a positive number:\"))\n",
        "  check_positive(num)\n",
        "  print(\"you entered a positive number.\")\n",
        "except NegativeNumberError as e:\n",
        "  print(e)\n"
      ],
      "metadata": {
        "colab": {
          "base_uri": "https://localhost:8080/"
        },
        "id": "ZaJsV150FN6o",
        "outputId": "d8e40e75-602e-4e18-aed1-b16a6c86ef0b"
      },
      "execution_count": 31,
      "outputs": [
        {
          "output_type": "stream",
          "name": "stdout",
          "text": [
            "enter a positive number:25\n",
            "you entered a positive number.\n"
          ]
        }
      ]
    },
    {
      "cell_type": "markdown",
      "source": [
        "Count words in a file"
      ],
      "metadata": {
        "id": "F4bdVksATcoE"
      }
    },
    {
      "cell_type": "code",
      "source": [
        "def count_lines(file_path):\n",
        "    try:\n",
        "        with open(file_path, 'r') as file:\n",
        "            return sum(1 for line in file)\n",
        "    except FileNotFoundError:\n",
        "        return \"File not found!\"\n",
        "    except Exception as e:\n",
        "        return f\"An error occurred: {e}\"\n",
        "\n",
        "# Example usage\n",
        "file_path = \"example.txt\"\n",
        "line_count = count_lines(file_path)\n",
        "print(f\"The file has {line_count} lines.\")\n"
      ],
      "metadata": {
        "colab": {
          "base_uri": "https://localhost:8080/"
        },
        "id": "re0YxyJFYfkr",
        "outputId": "54dc5c75-70ef-4002-ddf8-957e3cc51ab1"
      },
      "execution_count": 45,
      "outputs": [
        {
          "output_type": "stream",
          "name": "stdout",
          "text": [
            "The file has File not found! lines.\n"
          ]
        }
      ]
    },
    {
      "cell_type": "markdown",
      "source": [
        "IMPORTANT\n",
        "IMPORT RANDOM"
      ],
      "metadata": {
        "id": "PnNRpomYZGjT"
      }
    },
    {
      "cell_type": "code",
      "source": [
        "import random\n",
        "random_number = random.randint(1,6)\n",
        "print(\"the random number is :\", random_number)"
      ],
      "metadata": {
        "colab": {
          "base_uri": "https://localhost:8080/"
        },
        "id": "CvJBc_QxZMUI",
        "outputId": "13a29dbd-e367-4f28-ce8a-4859bce1c527"
      },
      "execution_count": 49,
      "outputs": [
        {
          "output_type": "stream",
          "name": "stdout",
          "text": [
            "the random number is : 5\n"
          ]
        }
      ]
    },
    {
      "cell_type": "code",
      "source": [
        "colors = ['red', 'blue', 'green']\n",
        "print(random.choice(colors))  # Randomly selects one of the colors\n"
      ],
      "metadata": {
        "colab": {
          "base_uri": "https://localhost:8080/"
        },
        "id": "GuGiE59zj5wD",
        "outputId": "09d4f5ec-23d3-4a21-89be-a8b15b5480db"
      },
      "execution_count": 50,
      "outputs": [
        {
          "output_type": "stream",
          "name": "stdout",
          "text": [
            "red\n"
          ]
        }
      ]
    }
  ]
}