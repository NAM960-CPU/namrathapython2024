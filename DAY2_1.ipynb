{
  "nbformat": 4,
  "nbformat_minor": 0,
  "metadata": {
    "colab": {
      "provenance": []
    },
    "kernelspec": {
      "name": "python3",
      "display_name": "Python 3"
    },
    "language_info": {
      "name": "python"
    }
  },
  "cells": [
    {
      "cell_type": "code",
      "execution_count": null,
      "metadata": {
        "id": "yBvpYMiv8EKw"
      },
      "outputs": [],
      "source": []
    },
    {
      "cell_type": "markdown",
      "source": [
        "while loops"
      ],
      "metadata": {
        "id": "_sBOcHhJ8JHC"
      }
    },
    {
      "cell_type": "code",
      "source": [
        "count = 0\n",
        "while count < 5:\n",
        "  print(\"count:\", count)\n",
        "  count += 1"
      ],
      "metadata": {
        "colab": {
          "base_uri": "https://localhost:8080/"
        },
        "id": "_GIcEa2G8MHp",
        "outputId": "2b6eb38d-09b9-49a8-f0da-fc1692fc88d0"
      },
      "execution_count": null,
      "outputs": [
        {
          "output_type": "stream",
          "name": "stdout",
          "text": [
            "count: 0\n",
            "count: 1\n",
            "count: 2\n",
            "count: 3\n",
            "count: 4\n"
          ]
        }
      ]
    },
    {
      "cell_type": "markdown",
      "source": [
        "CONTORL FLOW TOOLS"
      ],
      "metadata": {
        "id": "phdqFfAv8nFl"
      }
    },
    {
      "cell_type": "code",
      "source": [
        "for i in range(10):\n",
        "  if i == 5:\n",
        "    break\n",
        "  print (i)"
      ],
      "metadata": {
        "colab": {
          "base_uri": "https://localhost:8080/"
        },
        "id": "3v7uxQim9F6a",
        "outputId": "ca40dd3d-cb08-440c-c204-489a2639062b"
      },
      "execution_count": null,
      "outputs": [
        {
          "output_type": "stream",
          "name": "stdout",
          "text": [
            "0\n",
            "1\n",
            "2\n",
            "3\n",
            "4\n"
          ]
        }
      ]
    },
    {
      "cell_type": "markdown",
      "source": [
        "PASS"
      ],
      "metadata": {
        "id": "6xzwFBzL-IDL"
      }
    },
    {
      "cell_type": "code",
      "source": [
        "for i in range(10):\n",
        "  if i == 5:\n",
        "    pass\n",
        "  print (i)"
      ],
      "metadata": {
        "colab": {
          "base_uri": "https://localhost:8080/"
        },
        "id": "5lPfL-JD-r-O",
        "outputId": "02f8b79a-b1cf-4755-8fc6-19ce9a25eed9"
      },
      "execution_count": null,
      "outputs": [
        {
          "output_type": "stream",
          "name": "stdout",
          "text": [
            "0\n",
            "1\n",
            "2\n",
            "3\n",
            "4\n",
            "5\n",
            "6\n",
            "7\n",
            "8\n",
            "9\n"
          ]
        }
      ]
    },
    {
      "cell_type": "markdown",
      "source": [
        "HANDS ON PRACTICE"
      ],
      "metadata": {
        "id": "18Qtq_Dh_M_C"
      }
    },
    {
      "cell_type": "code",
      "source": [
        "number = int(input(\"enter a number:\"))\n",
        "if number %2 ==0:\n",
        "  print(\"the number is even.\")\n",
        "else:\n",
        "  print(\"the number is odd\")"
      ],
      "metadata": {
        "colab": {
          "base_uri": "https://localhost:8080/"
        },
        "id": "4exxe-PtCNpF",
        "outputId": "8d06e052-795b-440e-8184-997dad9b1cd1"
      },
      "execution_count": null,
      "outputs": [
        {
          "output_type": "stream",
          "name": "stdout",
          "text": [
            "enter a number:6\n",
            "the number is even.\n"
          ]
        }
      ]
    },
    {
      "cell_type": "markdown",
      "source": [
        "SUM  OF NUMBER IN A GIVEN RANGE"
      ],
      "metadata": {
        "id": "VH3wqpl7C0ne"
      }
    },
    {
      "cell_type": "code",
      "source": [
        "start =int(input(\"enter the start of the range:\"))\n",
        "end =int(input(\"enter the end of the range: \"))\n",
        "sum=0\n",
        "for i in range(start, end + 1):\n",
        "  sum += i\n",
        "print(\"the sum is:\", sum)"
      ],
      "metadata": {
        "colab": {
          "base_uri": "https://localhost:8080/"
        },
        "id": "C2gavnS4C9kC",
        "outputId": "870d6420-4d0e-484c-8758-ee3f12237b1e"
      },
      "execution_count": null,
      "outputs": [
        {
          "output_type": "stream",
          "name": "stdout",
          "text": [
            "enter the start of the range:5\n",
            "enter the end of the range: 10\n",
            "the sum is: 45\n"
          ]
        }
      ]
    },
    {
      "cell_type": "markdown",
      "source": [
        "factorial numbers"
      ],
      "metadata": {
        "id": "NB5mUY1KE9Uy"
      }
    },
    {
      "cell_type": "code",
      "source": [
        "number =int(input(\"enter a number: \"))\n",
        "factorial =1\n",
        "for i in range(1,number + 1):\n",
        "  factorial*=i\n",
        "print(\"the factorial is:\", factorial)"
      ],
      "metadata": {
        "colab": {
          "base_uri": "https://localhost:8080/"
        },
        "id": "Mb_J9B2vFCzR",
        "outputId": "909d2cd8-2fc9-405c-8209-9b54cbe17760"
      },
      "execution_count": null,
      "outputs": [
        {
          "output_type": "stream",
          "name": "stdout",
          "text": [
            "enter a number: 5\n",
            "the factorial is: 120\n"
          ]
        }
      ]
    },
    {
      "cell_type": "markdown",
      "source": [
        "FIBONACCI SEQUENCE"
      ],
      "metadata": {
        "id": "0vGtjqbXHOZX"
      }
    },
    {
      "cell_type": "code",
      "source": [
        "n = int(input(\"enter the number of terms:\"))\n",
        "a, b =0,1\n",
        "for i in range(n):\n",
        "  print(a, end=\" \")\n",
        "\n",
        "  a,b = b, a + b\n"
      ],
      "metadata": {
        "colab": {
          "base_uri": "https://localhost:8080/"
        },
        "id": "SH03ebAqH4bu",
        "outputId": "4d6a98b8-4e0d-4f1d-b0dd-ee3476701775"
      },
      "execution_count": null,
      "outputs": [
        {
          "output_type": "stream",
          "name": "stdout",
          "text": [
            "enter the number of terms:10\n",
            "0 1 1 2 3 5 8 13 21 34 "
          ]
        }
      ]
    },
    {
      "cell_type": "markdown",
      "source": [
        "SIMPLE CALCULATOR USING IF-ELSE"
      ],
      "metadata": {
        "id": "78n1t_xzPnqt"
      }
    },
    {
      "cell_type": "code",
      "source": [
        "num1 = float(input(\"enter first number: \"))\n",
        "num2 = float(input(\"enter second number: \"))\n",
        "operation = (input(\"enter operation(+, -, *, /:\"))\n",
        "if operation == '+':\n",
        "  print(\"result:\", num1 + num2)\n",
        "elif operation == '-':\n",
        "  print(\"result:\", num1 - num2)\n",
        "elif operation == '*':\n",
        "  print(\"result:\", num1 * num2)\n",
        "elif operation == '//':\n",
        "  print(\"result:'\", num1 // num2)\n",
        "elif operation == '%':\n",
        "  print(\"result:\", num1 % num2)\n",
        "elif operation == '**':\n",
        "  print(\"result:\", num1 ** num2)\n",
        "else:\n",
        "  print(\"INVALID operation\")"
      ],
      "metadata": {
        "colab": {
          "base_uri": "https://localhost:8080/"
        },
        "id": "n23j2DR3Ung0",
        "outputId": "92cddf91-eacd-4e05-f010-adfe1d998963"
      },
      "execution_count": null,
      "outputs": [
        {
          "output_type": "stream",
          "name": "stdout",
          "text": [
            "enter first number: 6\n",
            "enter second number: 3\n",
            "enter operation(+, -, *, /:*\n",
            "result: 18.0\n"
          ]
        }
      ]
    },
    {
      "cell_type": "markdown",
      "source": [
        "CHECK LEAP YEAR"
      ],
      "metadata": {
        "id": "lmpxSFTjdyQF"
      }
    },
    {
      "cell_type": "code",
      "source": [
        "year =int(input(\"enter a year: \"))\n",
        "if(year % 4 == 0 and year % 100!=0) or (year % 400 ==0):\n",
        "  print(\"leap year\")\n",
        "else:\n",
        "  print(\"not a leap year\")"
      ],
      "metadata": {
        "colab": {
          "base_uri": "https://localhost:8080/"
        },
        "id": "JmvYg1QSd2rG",
        "outputId": "76746afe-6a82-454c-c54e-752dc8d0cd4c"
      },
      "execution_count": null,
      "outputs": [
        {
          "output_type": "stream",
          "name": "stdout",
          "text": [
            "enter a year: 2022\n",
            "not a leap year\n"
          ]
        }
      ]
    },
    {
      "cell_type": "markdown",
      "source": [
        "FIND THE LARGEST OF THREE NUMBERS\n"
      ],
      "metadata": {
        "id": "RY1bCY5AgZeY"
      }
    },
    {
      "cell_type": "code",
      "source": [
        "num1 = float(input(\"enter first number: \"))\n",
        "num2 = float(input(\"enter second number: \"))\n",
        "num3 = float(input(\"enter third number: \"))\n",
        "if num1>=num2 and num1 >=num3:\n",
        "  print(\"largest number is:\",num1)\n",
        "elif num2>=num3:\n",
        "  print(\"largest number is:\",num2)\n",
        "else:\n",
        "  print(\"largest number is:\",num3)\n"
      ],
      "metadata": {
        "colab": {
          "base_uri": "https://localhost:8080/"
        },
        "id": "9gYWD7eSgkTI",
        "outputId": "757264ad-08cf-45da-c1e4-bc72437afe72"
      },
      "execution_count": null,
      "outputs": [
        {
          "output_type": "stream",
          "name": "stdout",
          "text": [
            "enter first number: 7\n",
            "enter second number: 6\n",
            "enter third number: 18\n",
            "largest number is: 18.0\n"
          ]
        }
      ]
    },
    {
      "cell_type": "code",
      "source": [
        "a = int(input(\" enter a number\"))\n",
        "if a>0:\n",
        "  print(\"positive\")\n",
        "elif a<0:\n",
        "  print(\"negative\")\n",
        "else:\n",
        "  print(\"zero\")"
      ],
      "metadata": {
        "colab": {
          "base_uri": "https://localhost:8080/"
        },
        "id": "87M19uBRitAz",
        "outputId": "2475873b-9c40-4082-9525-01b6186c7821"
      },
      "execution_count": null,
      "outputs": [
        {
          "output_type": "stream",
          "name": "stdout",
          "text": [
            " enter a number5\n",
            "positive\n"
          ]
        }
      ]
    },
    {
      "cell_type": "markdown",
      "source": [
        "SUM OF ALL EVEN NUMBER IN A RANGE"
      ],
      "metadata": {
        "id": "F2ckcJwQjql0"
      }
    },
    {
      "cell_type": "code",
      "source": [
        "start = int(input(\"enter start of range:\"))\n",
        "end = int(input(\" enter end of range\"))\n",
        "even_sum=0\n",
        "for num in range(start, end + 1):\n",
        "  if num % 2 ==0:\n",
        "     even_sum +=num\n",
        "print(\"sum of even numbers:\",even_sum)"
      ],
      "metadata": {
        "colab": {
          "base_uri": "https://localhost:8080/"
        },
        "id": "BCv6kxxXkFBz",
        "outputId": "c71cd496-6a16-425d-f62e-1c0823a1fe4f"
      },
      "execution_count": null,
      "outputs": [
        {
          "output_type": "stream",
          "name": "stdout",
          "text": [
            "enter start of range:5\n",
            " enter end of range7\n",
            "sum of even numbers: 6\n"
          ]
        }
      ]
    },
    {
      "cell_type": "code",
      "source": [
        "def check_divisibility(num):\n",
        "  if num % 3 == 0 and num % 5 ==0:\n",
        "      return True\n",
        "  else :\n",
        "      return False\n",
        "number = int(input(\"enter a number: \"))\n",
        "if check_divisibility(number):\n",
        "   print(f\"{number} is divisible by both 3 and 5.\")\n",
        "else:\n",
        "   print(f\"{number} is not divisible by both 3 and 5.\")"
      ],
      "metadata": {
        "colab": {
          "base_uri": "https://localhost:8080/"
        },
        "id": "lJR4qS5mRkLv",
        "outputId": "e5a6ad8f-53ea-4464-878d-60c1888b984c"
      },
      "execution_count": 79,
      "outputs": [
        {
          "output_type": "stream",
          "name": "stdout",
          "text": [
            "enter a number: 15\n",
            "15 is divisible by both 3 and 5.\n"
          ]
        }
      ]
    },
    {
      "cell_type": "code",
      "source": [
        "def is_palindrome(s):\n",
        "\n",
        "    s = s.replace(\" \", \"\").lower()\n",
        "\n",
        "    return s == s[::-1]\n",
        "\n",
        "input_string = input(\"Enter a string: \")\n",
        "if is_palindrome(input_string):\n",
        "    print(f\"'{input_string}' is a palindrome.\")\n",
        "else:\n",
        "    print(f\"'{input_string}' is not a palindrome.\")\n"
      ],
      "metadata": {
        "colab": {
          "base_uri": "https://localhost:8080/"
        },
        "id": "DLxUOFaBAg3l",
        "outputId": "79e6a264-20d6-4377-f79e-3301cad0ade2"
      },
      "execution_count": 81,
      "outputs": [
        {
          "output_type": "stream",
          "name": "stdout",
          "text": [
            "Enter a string: \"\"\n",
            "'\"\"' is a palindrome.\n"
          ]
        }
      ]
    },
    {
      "cell_type": "code",
      "source": [
        "def count_sevens(lst):\n",
        "    return lst.count(7)\n",
        "\n",
        "numbers = [1, 7, 3, 7, 5, 7, 8, 7]\n",
        "\n",
        "count = count_sevens(numbers)\n",
        "\n",
        "print(f\"The number 7 appears {count} times in the list.\")\n"
      ],
      "metadata": {
        "colab": {
          "base_uri": "https://localhost:8080/"
        },
        "id": "qia1PatEBRDd",
        "outputId": "ef98f6ef-b97c-4da4-f952-70253af506e6"
      },
      "execution_count": 82,
      "outputs": [
        {
          "output_type": "stream",
          "name": "stdout",
          "text": [
            "The number 7 appears 4 times in the list.\n"
          ]
        }
      ]
    },
    {
      "cell_type": "code",
      "source": [
        "def is_alpha(s):\n",
        "    return s.isalpha()\n",
        "\n",
        "input_string = input(\"Enter a string: \")\n",
        "\n",
        "if is_alpha(input_string):\n",
        "    print(f\"'{input_string}' contains only alphabets.\")\n",
        "else:\n",
        "    print(f\"'{input_string}' does not contain only alphabets.\")\n"
      ],
      "metadata": {
        "colab": {
          "base_uri": "https://localhost:8080/"
        },
        "id": "ikgjuL39BmJj",
        "outputId": "d89efddb-8395-428b-b64b-f9cf8c31566e"
      },
      "execution_count": 83,
      "outputs": [
        {
          "output_type": "stream",
          "name": "stdout",
          "text": [
            "Enter a string: \"\"\n",
            "'\"\"' does not contain only alphabets.\n"
          ]
        }
      ]
    },
    {
      "cell_type": "code",
      "source": [
        "for num in range(1, 21):\n",
        "\n",
        "  if num % 2 == 0:\n",
        "    print(num)"
      ],
      "metadata": {
        "colab": {
          "base_uri": "https://localhost:8080/"
        },
        "id": "rYq7b72qPruz",
        "outputId": "11df519d-6e2d-47ba-d2a7-1ab5007175a4"
      },
      "execution_count": 72,
      "outputs": [
        {
          "output_type": "stream",
          "name": "stdout",
          "text": [
            "2\n",
            "4\n",
            "6\n",
            "8\n",
            "10\n",
            "12\n",
            "14\n",
            "16\n",
            "18\n",
            "20\n"
          ]
        }
      ]
    },
    {
      "cell_type": "code",
      "source": [
        "sum_of_numbers = 0\n",
        "num = 1\n",
        "\n",
        "while num <=100:\n",
        "  sum_of_numbers += num\n",
        "  num += 1\n",
        "\n",
        "print(f\"the sum of all numbers from 1 to 100 is: {sum_of_numbers}\")"
      ],
      "metadata": {
        "colab": {
          "base_uri": "https://localhost:8080/"
        },
        "id": "FdgoQgEoOy1k",
        "outputId": "b7dbaf50-9469-41b2-87bc-1ef562ce8f30"
      },
      "execution_count": 71,
      "outputs": [
        {
          "output_type": "stream",
          "name": "stdout",
          "text": [
            "the sum of all numbers from 1 to 100 is: 5050\n"
          ]
        }
      ]
    },
    {
      "cell_type": "code",
      "source": [
        "def factorial(n):\n",
        "  result = 1\n",
        "  for i in range(1, n + 1):\n",
        "    result *= i\n",
        "n = int(input(\"enter a number to find its factorial:\"))\n",
        "print(f\"the factorial of {n} is {factorial(n)}\")"
      ],
      "metadata": {
        "colab": {
          "base_uri": "https://localhost:8080/"
        },
        "id": "WRuiOiL6Kn-w",
        "outputId": "9035321e-2b3e-4013-98c0-f5aa668212b1"
      },
      "execution_count": 61,
      "outputs": [
        {
          "output_type": "stream",
          "name": "stdout",
          "text": [
            "enter a number to find its factorial:32\n",
            "the factorial of 32 is None\n"
          ]
        }
      ]
    },
    {
      "cell_type": "code",
      "source": [
        "\n",
        "def print_multiplication_tables():\n",
        "    for i in range(1, 6):\n",
        "        print(f\"Multiplication table for {i}:\")\n",
        "        for j in range(1, 11):\n",
        "            print(f\"{i} x {j} = {i * j}\")\n",
        "        print()\n",
        "\n",
        "print_multiplication_tables()\n"
      ],
      "metadata": {
        "colab": {
          "base_uri": "https://localhost:8080/"
        },
        "collapsed": true,
        "id": "jVR1wDRsWOqQ",
        "outputId": "cad0a92c-bed6-492d-a6f1-c18f7254bd0e"
      },
      "execution_count": 84,
      "outputs": [
        {
          "output_type": "stream",
          "name": "stdout",
          "text": [
            "Multiplication table for 1:\n",
            "1 x 1 = 1\n",
            "1 x 2 = 2\n",
            "1 x 3 = 3\n",
            "1 x 4 = 4\n",
            "1 x 5 = 5\n",
            "1 x 6 = 6\n",
            "1 x 7 = 7\n",
            "1 x 8 = 8\n",
            "1 x 9 = 9\n",
            "1 x 10 = 10\n",
            "\n",
            "Multiplication table for 2:\n",
            "2 x 1 = 2\n",
            "2 x 2 = 4\n",
            "2 x 3 = 6\n",
            "2 x 4 = 8\n",
            "2 x 5 = 10\n",
            "2 x 6 = 12\n",
            "2 x 7 = 14\n",
            "2 x 8 = 16\n",
            "2 x 9 = 18\n",
            "2 x 10 = 20\n",
            "\n",
            "Multiplication table for 3:\n",
            "3 x 1 = 3\n",
            "3 x 2 = 6\n",
            "3 x 3 = 9\n",
            "3 x 4 = 12\n",
            "3 x 5 = 15\n",
            "3 x 6 = 18\n",
            "3 x 7 = 21\n",
            "3 x 8 = 24\n",
            "3 x 9 = 27\n",
            "3 x 10 = 30\n",
            "\n",
            "Multiplication table for 4:\n",
            "4 x 1 = 4\n",
            "4 x 2 = 8\n",
            "4 x 3 = 12\n",
            "4 x 4 = 16\n",
            "4 x 5 = 20\n",
            "4 x 6 = 24\n",
            "4 x 7 = 28\n",
            "4 x 8 = 32\n",
            "4 x 9 = 36\n",
            "4 x 10 = 40\n",
            "\n",
            "Multiplication table for 5:\n",
            "5 x 1 = 5\n",
            "5 x 2 = 10\n",
            "5 x 3 = 15\n",
            "5 x 4 = 20\n",
            "5 x 5 = 25\n",
            "5 x 6 = 30\n",
            "5 x 7 = 35\n",
            "5 x 8 = 40\n",
            "5 x 9 = 45\n",
            "5 x 10 = 50\n",
            "\n"
          ]
        }
      ]
    },
    {
      "cell_type": "code",
      "source": [
        "def print_multiplication_tables():\n",
        "   for i in range(1,6):\n",
        "    print(f\"multiplication table for {i}:\")\n",
        "    for j in range(1, 11):\n",
        "       print(f\"{i} * {j} = {i * j}\")\n",
        "    print()\n",
        "print_multiplication_tables()"
      ],
      "metadata": {
        "colab": {
          "base_uri": "https://localhost:8080/"
        },
        "collapsed": true,
        "id": "I6XxkziaM5gk",
        "outputId": "a7d76e6e-d516-4e2e-a6b0-f4b799623d5d"
      },
      "execution_count": 80,
      "outputs": [
        {
          "output_type": "stream",
          "name": "stdout",
          "text": [
            "multiplication table for 1:\n",
            "1 * 1 = 1\n",
            "1 * 2 = 2\n",
            "1 * 3 = 3\n",
            "1 * 4 = 4\n",
            "1 * 5 = 5\n",
            "1 * 6 = 6\n",
            "1 * 7 = 7\n",
            "1 * 8 = 8\n",
            "1 * 9 = 9\n",
            "1 * 10 = 10\n",
            "\n",
            "multiplication table for 2:\n",
            "2 * 1 = 2\n",
            "2 * 2 = 4\n",
            "2 * 3 = 6\n",
            "2 * 4 = 8\n",
            "2 * 5 = 10\n",
            "2 * 6 = 12\n",
            "2 * 7 = 14\n",
            "2 * 8 = 16\n",
            "2 * 9 = 18\n",
            "2 * 10 = 20\n",
            "\n",
            "multiplication table for 3:\n",
            "3 * 1 = 3\n",
            "3 * 2 = 6\n",
            "3 * 3 = 9\n",
            "3 * 4 = 12\n",
            "3 * 5 = 15\n",
            "3 * 6 = 18\n",
            "3 * 7 = 21\n",
            "3 * 8 = 24\n",
            "3 * 9 = 27\n",
            "3 * 10 = 30\n",
            "\n",
            "multiplication table for 4:\n",
            "4 * 1 = 4\n",
            "4 * 2 = 8\n",
            "4 * 3 = 12\n",
            "4 * 4 = 16\n",
            "4 * 5 = 20\n",
            "4 * 6 = 24\n",
            "4 * 7 = 28\n",
            "4 * 8 = 32\n",
            "4 * 9 = 36\n",
            "4 * 10 = 40\n",
            "\n",
            "multiplication table for 5:\n",
            "5 * 1 = 5\n",
            "5 * 2 = 10\n",
            "5 * 3 = 15\n",
            "5 * 4 = 20\n",
            "5 * 5 = 25\n",
            "5 * 6 = 30\n",
            "5 * 7 = 35\n",
            "5 * 8 = 40\n",
            "5 * 9 = 45\n",
            "5 * 10 = 50\n",
            "\n"
          ]
        }
      ]
    },
    {
      "cell_type": "code",
      "source": [
        "# Function to find the sum of digits of a number\n",
        "def sum_of_digits(number):\n",
        "    total_sum = 0  # Initialize the sum to 0\n",
        "\n",
        "    # Use a while loop to extract and sum the digits\n",
        "    while number > 0:\n",
        "        digit = number % 10  # Get the last digit\n",
        "        total_sum += digit   # Add the digit to the total sum\n",
        "        number = number // 10  # Remove the last digit from the number\n",
        "\n",
        "    return total_sum\n",
        "\n",
        "# Input: Number whose digits sum needs to be calculated\n",
        "num = int(input(\"Enter a number to find the sum of its digits: \"))\n",
        "print(f\"The sum of digits of {num} is {sum_of_digits(num)}\")\n"
      ],
      "metadata": {
        "colab": {
          "base_uri": "https://localhost:8080/"
        },
        "id": "CXFmawWuXImY",
        "outputId": "d271ebc0-57b7-429d-f020-72f27415af7b"
      },
      "execution_count": 87,
      "outputs": [
        {
          "output_type": "stream",
          "name": "stdout",
          "text": [
            "Enter a number to find the sum of its digits: 25\n",
            "The sum of digits of 25 is 7\n"
          ]
        }
      ]
    }
  ]
}